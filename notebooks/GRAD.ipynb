{
 "cells": [
  {
   "cell_type": "markdown",
   "id": "respected-seven",
   "metadata": {},
   "source": [
    "# Preparation"
   ]
  },
  {
   "cell_type": "markdown",
   "id": "sealed-valve",
   "metadata": {},
   "source": [
    "## Imports"
   ]
  },
  {
   "cell_type": "code",
   "execution_count": 1,
   "id": "after-hartford",
   "metadata": {},
   "outputs": [],
   "source": [
    "# TensorFlow\n",
    "import tensorflow as tf\n",
    "import tensorboard as tb\n",
    "from tensorflow.keras.layers import Input, Layer, Conv2D, MaxPool2D, Flatten, Dense\n",
    "# Data handling\n",
    "import pandas as pd\n",
    "import numpy as np\n",
    "# Plotting\n",
    "import matplotlib.pyplot as plt\n",
    "from matplotlib.lines import Line2D\n",
    "import seaborn as sns\n",
    "# Other stuff\n",
    "import itertools\n",
    "import datetime\n",
    "import time\n",
    "import pickle\n",
    "import functools\n",
    "import json\n",
    "import sys\n",
    "import os\n",
    "import shutil"
   ]
  },
  {
   "cell_type": "markdown",
   "id": "abstract-balloon",
   "metadata": {},
   "source": [
    "## Paths"
   ]
  },
  {
   "cell_type": "code",
   "execution_count": 2,
   "id": "suited-relative",
   "metadata": {},
   "outputs": [],
   "source": [
    "# Base path for functions\n",
    "base_path = \"C:/repos/\"\n",
    "sys.path.append(base_path)\n",
    "\n",
    "# Path where configs are stored\n",
    "configs_path = base_path + \"twrds_unbiased_anns/configs/\"\n",
    "\n",
    "# Path top store runs\n",
    "runs_path = base_path + \"twrds_unbiased_anns/runs/\"\n",
    "\n",
    "# Path to store run results\n",
    "results_path = base_path + \"twrds_unbiased_anns/runs/results/\""
   ]
  },
  {
   "cell_type": "markdown",
   "id": "moderate-institution",
   "metadata": {},
   "source": [
    "## Functions"
   ]
  },
  {
   "cell_type": "code",
   "execution_count": 3,
   "id": "difficult-video",
   "metadata": {},
   "outputs": [],
   "source": [
    "# Import of functions\n",
    "# Sample creation\n",
    "from twrds_unbiased_anns.src.data.samples import create_sample_array, get_sample_data, get_sample_params, convert_sample_to_np_array, gen_from_sample, dataset_from_gen\n",
    "# Evaluation\n",
    "from twrds_unbiased_anns.src.data.eval import load_eval_samples, evaluate_performance, evaluate_performance_class, evaluate_model, store_results\n",
    "# Models\n",
    "from twrds_unbiased_anns.src.tf.models import get_model\n",
    "# Losses\n",
    "from twrds_unbiased_anns.src.tf.losses import get_loss\n",
    "# Optimizers\n",
    "from twrds_unbiased_anns.src.tf.optimizers import get_optimizer\n",
    "# Utils\n",
    "from twrds_unbiased_anns.src.utils import load_config_from_file, mkdir, rmdir"
   ]
  },
  {
   "cell_type": "markdown",
   "id": "desperate-upset",
   "metadata": {},
   "source": [
    "# Model"
   ]
  },
  {
   "cell_type": "markdown",
   "id": "standing-mixer",
   "metadata": {},
   "source": [
    "## Gradient Reversal Layer\n",
    "https://stackoverflow.com/questions/56841166/how-to-implement-gradient-reversal-layer-in-tf-2-0"
   ]
  },
  {
   "cell_type": "code",
   "execution_count": 5,
   "id": "responsible-desktop",
   "metadata": {},
   "outputs": [],
   "source": [
    "# Gradient reversal operation\n",
    "@tf.custom_gradient\n",
    "def grad_reverse(x):\n",
    "    y = tf.identity(x)\n",
    "    def custom_grad(dy):\n",
    "        return -dy\n",
    "    return y, custom_grad\n",
    "\n",
    "# Layer that reverses the gradient\n",
    "class GradReverse(tf.keras.layers.Layer):\n",
    "    def __init__(self):\n",
    "        super().__init__()\n",
    "\n",
    "    def call(self, x):\n",
    "        return grad_reverse(x)"
   ]
  },
  {
   "cell_type": "code",
   "execution_count": 6,
   "id": "likely-recipe",
   "metadata": {},
   "outputs": [],
   "source": [
    "def create_grad_model(n_attributes, attr_loss_weight, classification = False):\n",
    "    \n",
    "    # Input\n",
    "    model_input = Input(shape=(360, 360, 3), name=\"input_img\")\n",
    "\n",
    "    # Feature extractor\n",
    "    x = Conv2D(32, (3, 3), padding = \"same\", activation = \"relu\", name = \"conv_1\")(model_input)\n",
    "    x = MaxPool2D(pool_size = (2, 2), name = \"pool_1\")(x)\n",
    "    x = Conv2D(64, (3, 3), padding = \"same\", activation = \"relu\", name = \"conv_2\")(x)\n",
    "    x = MaxPool2D(pool_size = (2, 2), name = \"pool_2\")(x)\n",
    "    x = Conv2D(64, (3, 3), padding = \"same\", activation = \"relu\", name = \"conv_3\")(x)\n",
    "    x = Flatten(name = \"flat_1\")(x)\n",
    "\n",
    "    # Target branch\n",
    "    x_target = Dense(100, activation='relu', name = \"target_dense_1\")(x)\n",
    "    x_target = Dense(20, activation='relu', name = \"target_dense_2\")(x_target)\n",
    "    if classification:\n",
    "        target_output = Dense(1, activation = \"sigmoid\", name = \"target_output\")(x_target)\n",
    "    else:\n",
    "        target_output = Dense(1, name = \"target_output\")(x_target)\n",
    "    model_outputs = [target_output]\n",
    "    \n",
    "    # Create losses, weights and metrics\n",
    "    if classification:\n",
    "        losses = {'target_output': tf.keras.losses.BinaryCrossentropy()}\n",
    "    else: \n",
    "        losses = {'target_output': tf.keras.losses.MeanSquaredError()}\n",
    "    weights = {'target_output': 1.}\n",
    "    metrics = {'target_output': 'accuracy'}\n",
    "    \n",
    "    # Split attribute loss over branches\n",
    "    attr_branch_weight = attr_loss_weight / n_attributes\n",
    "    \n",
    "    # Attribute branches\n",
    "    for i in range(n_attributes):\n",
    "        # Gradient reversal layer\n",
    "        x_attr = GradReverse()(x)\n",
    "        # Funnel into sigmoid for binary classification of attributes\n",
    "        x_attr = Dense(100, activation='relu', name = \"attr_{}_dense_1\".format(i))(x_attr)\n",
    "        x_attr = Dense(20, activation='relu', name = \"attr_{}_dense_2\".format(i))(x_attr)\n",
    "        output_name = \"attr_{}_output\".format(i)\n",
    "        attr_output = Dense(1, activation = \"sigmoid\", name = output_name)(x_attr) \n",
    "        # Add to outputs\n",
    "        model_outputs.append(attr_output)\n",
    "        # Add to losses, weights and metrics\n",
    "        losses[output_name] = tf.keras.losses.BinaryCrossentropy()\n",
    "        weights[output_name] = attr_branch_weight\n",
    "        metrics[output_name] = 'accuracy'\n",
    "        \n",
    "    # Make model\n",
    "    model = tf.keras.Model(inputs = model_input, outputs = model_outputs, name = \"GRAD_CNN\")   \n",
    "    \n",
    "    # Compile model\n",
    "    model.compile(optimizer = tf.keras.optimizers.Adam(), loss = losses, loss_weights = weights, metrics=metrics)\n",
    "    \n",
    "    # Return finished model\n",
    "    return model"
   ]
  },
  {
   "cell_type": "code",
   "execution_count": 7,
   "id": "commercial-stomach",
   "metadata": {},
   "outputs": [],
   "source": [
    "model = create_grad_model(2, 1000)"
   ]
  },
  {
   "cell_type": "code",
   "execution_count": 8,
   "id": "modified-thousand",
   "metadata": {},
   "outputs": [
    {
     "data": {
      "image/png": "[encoded data removed]",
      "text/plain": [
       "<IPython.core.display.Image object>"
      ]
     },
     "execution_count": 8,
     "metadata": {},
     "output_type": "execute_result"
    }
   ],
   "source": [
    "from tensorflow.keras.utils import plot_model\n",
    "plot_model(model)"
   ]
  },
  {
   "cell_type": "markdown",
   "id": "alternative-zimbabwe",
   "metadata": {},
   "source": [
    "# Config"
   ]
  },
  {
   "cell_type": "code",
   "execution_count": 8,
   "id": "fabulous-philosophy",
   "metadata": {},
   "outputs": [
    {
     "name": "stdout",
     "output_type": "stream",
     "text": [
      "[WinError 183] Eine Datei kann nicht erstellt werden, wenn sie bereits vorhanden ist: 'C:/repos/twrds_unbiased_anns/runs/GRAD_test'\n",
      "Deleting directory and creating again ...\n"
     ]
    }
   ],
   "source": [
    "# Set name for this run\n",
    "run_name = \"GRAD_test\" # Also name of the config file\n",
    "\n",
    "# Set run directory\n",
    "run_dir = runs_path + run_name\n",
    "\n",
    "# Get current date\n",
    "cur_date = datetime.datetime.today()\n",
    "date_str = cur_date.strftime(\"%d-%m-%Y\")\n",
    "\n",
    "# Load all variables from config file\n",
    "#config_filename = run_name + \".json\"\n",
    "#name, eval_sample_filename, dataset_size, colors, optimizer, repeats_per_model, batch_size, n_epochs, mean_diffs, stddevs, minority_shares, categorical, models, loss_functions, thresholds, noises = load_config_from_file(configs_path + config_filename, \"class\")\n",
    "\n",
    "# Create directory for this run\n",
    "mkdir(run_dir)\n",
    "\n",
    "# Create logdir\n",
    "log_base_dir = run_dir + \"/logs/\"\n",
    "mkdir(log_base_dir)"
   ]
  },
  {
   "cell_type": "markdown",
   "id": "raised-mississippi",
   "metadata": {},
   "source": [
    "# Training"
   ]
  },
  {
   "cell_type": "markdown",
   "id": "infrared-grenada",
   "metadata": {},
   "source": [
    "## TensorBoard Setup"
   ]
  },
  {
   "cell_type": "code",
   "execution_count": 10,
   "id": "independent-theory",
   "metadata": {},
   "outputs": [
    {
     "data": {
      "text/plain": [
       "Reusing TensorBoard on port 6006 (pid 5464), started 0:01:00 ago. (Use '!kill 5464' to kill it.)"
      ]
     },
     "metadata": {},
     "output_type": "display_data"
    },
    {
     "data": {
      "text/html": [
       "\n",
       "      <iframe id=\"tensorboard-frame-680592a913e12206\" width=\"100%\" height=\"800\" frameborder=\"0\">\n",
       "      </iframe>\n",
       "      <script>\n",
       "        (function() {\n",
       "          const frame = document.getElementById(\"tensorboard-frame-680592a913e12206\");\n",
       "          const url = new URL(\"/\", window.location);\n",
       "          const port = 6006;\n",
       "          if (port) {\n",
       "            url.port = port;\n",
       "          }\n",
       "          frame.src = url;\n",
       "        })();\n",
       "      </script>\n",
       "    "
      ],
      "text/plain": [
       "<IPython.core.display.HTML object>"
      ]
     },
     "metadata": {},
     "output_type": "display_data"
    }
   ],
   "source": [
    "# Delete tensorboard temp dir\n",
    "#rmdir(\"C:/Users/lucas/AppData/Local/Temp/.tensorboard-info\")\n",
    "# Load Tensorboard\n",
    "%reload_ext tensorboard\n",
    "%tensorboard --logdir=$log_base_dir"
   ]
  },
  {
   "cell_type": "code",
   "execution_count": 11,
   "id": "pending-tanzania",
   "metadata": {},
   "outputs": [],
   "source": [
    "dataset_size = 400\n",
    "batch_size = 16\n",
    "category = \"shape\"\n",
    "m_diff = 50\n",
    "std = 3\n",
    "share = 50\n",
    "threshold = 75\n",
    "noise = 0\n",
    "n_epochs = 50\n",
    "colors = [\"red\"]"
   ]
  },
  {
   "cell_type": "code",
   "execution_count": 12,
   "id": "operational-logic",
   "metadata": {},
   "outputs": [],
   "source": [
    "# Calculate number of steps per epoch\n",
    "n_steps = int(dataset_size/batch_size)\n",
    "\n",
    "# Clear session once and then every time before a new model is trained\n",
    "tf.keras.backend.clear_session()\n",
    "\n",
    "# Get sample parameters\n",
    "white_square, white_circle, colorful_square, colorful_circle = get_sample_params(category, m_diff, std, share)\n",
    "\n",
    "# Prepare sample\n",
    "train_sample = create_sample_array(dataset_size, white_square, white_circle, colorful_square, colorful_circle)\n",
    "\n",
    "# Create dataset from training data sample\n",
    "data = dataset_from_gen(train_sample, n_epochs, batch_size, colors, task_type = \"class\", threshold = threshold, noise = noise) "
   ]
  },
  {
   "cell_type": "code",
   "execution_count": 13,
   "id": "hired-remains",
   "metadata": {},
   "outputs": [
    {
     "data": {
      "text/plain": [
       "<tensorflow.python.keras.callbacks.History at 0x14db7c624f0>"
      ]
     },
     "execution_count": 13,
     "metadata": {},
     "output_type": "execute_result"
    }
   ],
   "source": [
    "model = create_grad_model(2, 0)\n",
    "\n",
    "n_steps = int(dataset_size/batch_size)\n",
    "# Create logdir and callback\n",
    "logdir = log_base_dir + \"GRAD_test_0\"\n",
    "tensorboard_callback = tf.keras.callbacks.TensorBoard(log_dir = logdir)\n",
    "\n",
    "# Do training\n",
    "model.fit(data, epochs = n_epochs, steps_per_epoch = n_steps, verbose = 0, callbacks=[tensorboard_callback])"
   ]
  }
 ],
 "metadata": {
  "kernelspec": {
   "display_name": "Python 3",
   "language": "python",
   "name": "python3"
  },
  "language_info": {
   "codemirror_mode": {
    "name": "ipython",
    "version": 3
   },
   "file_extension": ".py",
   "mimetype": "text/x-python",
   "name": "python",
   "nbconvert_exporter": "python",
   "pygments_lexer": "ipython3",
   "version": "3.8.8"
  }
 },
 "nbformat": 4,
 "nbformat_minor": 5
}
