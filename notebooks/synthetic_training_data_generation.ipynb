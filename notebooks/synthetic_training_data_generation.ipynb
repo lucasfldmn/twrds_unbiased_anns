{
  "nbformat": 4,
  "nbformat_minor": 0,
  "metadata": {
    "colab": {
      "name": "synthetic_training_data_generation.ipynb",
      "provenance": [],
      "collapsed_sections": [],
      "toc_visible": true,
      "authorship_tag": "ABX9TyMrs4lGIvCut+ibvHkmlcqy",
      "include_colab_link": true
    },
    "kernelspec": {
      "name": "python3",
      "display_name": "Python 3"
    }
  },
  "cells": [
    {
      "cell_type": "markdown",
      "metadata": {
        "id": "view-in-github",
        "colab_type": "text"
      },
      "source": [
        "<a href=\"https://colab.research.google.com/github/lucasfldmn/twrds_unbiased_anns/blob/main/notebooks/synthetic_training_data_generation.ipynb\" target=\"_parent\"><img src=\"https://colab.research.google.com/assets/colab-badge.svg\" alt=\"Open In Colab\"/></a>"
      ]
    },
    {
      "cell_type": "markdown",
      "metadata": {
        "id": "vz-nOV0kRIO2"
      },
      "source": [
        "# Imports"
      ]
    },
    {
      "cell_type": "code",
      "metadata": {
        "id": "sEsT9eMFQ7Ne"
      },
      "source": [
        "import numpy as np \n",
        "import matplotlib.pyplot as plt\n",
        "import scipy.stats as stats"
      ],
      "execution_count": null,
      "outputs": []
    },
    {
      "cell_type": "markdown",
      "metadata": {
        "id": "eI740oTsRHkJ"
      },
      "source": [
        "# Drawing Functions"
      ]
    },
    {
      "cell_type": "markdown",
      "metadata": {
        "id": "6g2tbK-VSBrZ"
      },
      "source": [
        "## Square"
      ]
    },
    {
      "cell_type": "code",
      "metadata": {
        "id": "vHMLFGmHSAgK"
      },
      "source": [
        "def make_square(color = 'red', size = 50, save = True, number = None, display = False):\n",
        "  # Define figure\n",
        "  fig = plt.figure(figsize = (10,10))\n",
        "  ax = fig.gca()\n",
        "\n",
        "  # Set background and plotting area to black, remove axis\n",
        "  bg = fig.patch\n",
        "  bg.set_facecolor('black')\n",
        "  plt.axis('off')\n",
        "\n",
        "  # Draw square\n",
        "  # Calculate width and height\n",
        "  square_size = size/100\n",
        "  # Calculate starting coordinates as rectangles are drawn from the bottom left corner\n",
        "  starting_pos = (1 - square_size) / 2\n",
        "  circle = plt.Rectangle(xy = (starting_pos, starting_pos), width = square_size, height = square_size, color = color)\n",
        "  ax.add_artist(circle)\n",
        "\n",
        "  # Show result if desired\n",
        "  if display:\n",
        "    plt.show()\n",
        "\n",
        "  # Save file if desired\n",
        "  if save:\n",
        "    # Check if number is given and set filename\n",
        "    if number is not None:\n",
        "      filename = '{:05d}_square_{}_{:03d}.png'.format(number, color, int(size)) \n",
        "    else:\n",
        "      filename = 'square_{}_{:03d}.png'.format(color, int(size)) \n",
        "    fig.savefig(filename, dpi = 100, facecolor = 'black')\n",
        "\n",
        "    \n",
        "  # Close figure\n",
        "  plt.close()"
      ],
      "execution_count": null,
      "outputs": []
    },
    {
      "cell_type": "code",
      "metadata": {
        "id": "EK1LgNfHRHZm",
        "colab": {
          "base_uri": "https://localhost:8080/",
          "height": 575
        },
        "outputId": "e61f77a4-f042-4e44-f02d-82077908d6db"
      },
      "source": [
        "make_square(color = 'red', size = 70, save = False, display = True)"
      ],
      "execution_count": null,
      "outputs": [
        {
          "output_type": "display_data",
          "data": {
            "image/png": "[encoded data removed]",
            "text/plain": [
              "<Figure size 720x720 with 1 Axes>"
            ]
          },
          "metadata": {
            "tags": []
          }
        }
      ]
    },
    {
      "cell_type": "markdown",
      "metadata": {
        "id": "lFxIMi8yRH5H"
      },
      "source": [
        "## Circle"
      ]
    },
    {
      "cell_type": "code",
      "metadata": {
        "id": "hDWplCV3RIAF"
      },
      "source": [
        "def make_circle(color = 'red', size = 50, save = True, number = None, display = False):\n",
        "  # Define figure\n",
        "  fig = plt.figure(figsize = (10,10))\n",
        "  ax = fig.gca()\n",
        "\n",
        "  # Set background and plotting area to black, remove axis\n",
        "  bg = fig.patch\n",
        "  bg.set_facecolor('black')\n",
        "  plt.axis('off')\n",
        "\n",
        "  # Draw circle\n",
        "  circle = plt.Circle(xy = (0.5, 0.5), radius = 0.5*size/100, color = color)\n",
        "  ax.add_artist(circle)\n",
        "\n",
        "  # Show result if desired\n",
        "  if display:\n",
        "    plt.show()\n",
        "\n",
        "  # Save file if desired\n",
        "  if save:\n",
        "    # Check if number is given and set filename\n",
        "    if number is not None:\n",
        "      filename = '{:05d}_circle_{}_{:03d}.png'.format(number, color, int(size)) \n",
        "    else:\n",
        "      filename = 'circle_{}_{:03d}.png'.format(color, int(size)) \n",
        "    fig.savefig(filename, dpi = 100, facecolor = 'black')\n",
        "\n",
        "  # Close figure\n",
        "  plt.close()"
      ],
      "execution_count": null,
      "outputs": []
    },
    {
      "cell_type": "code",
      "metadata": {
        "id": "HadqFCW0RHq-",
        "colab": {
          "base_uri": "https://localhost:8080/",
          "height": 575
        },
        "outputId": "6a82d1f9-a7d2-470a-fb29-8b506985fdec"
      },
      "source": [
        "make_circle(color = 'white', size = 20, save = False, display = True)"
      ],
      "execution_count": null,
      "outputs": [
        {
          "output_type": "display_data",
          "data": {
            "image/png": "[encoded data removed]",
            "text/plain": [
              "<Figure size 720x720 with 1 Axes>"
            ]
          },
          "metadata": {
            "tags": []
          }
        }
      ]
    },
    {
      "cell_type": "markdown",
      "metadata": {
        "id": "H9COVb3RhjZ1"
      },
      "source": [
        "# Generation of Training Data"
      ]
    },
    {
      "cell_type": "markdown",
      "metadata": {
        "id": "hF5lF7gmhrpn"
      },
      "source": [
        "## Training Parameters"
      ]
    },
    {
      "cell_type": "code",
      "metadata": {
        "id": "5L4ptkSXh08s"
      },
      "source": [
        "# Total number of samples\n",
        "n_samples = 100\n",
        "\n",
        "# Other colors (randomly chosen)\n",
        "colors = ['red', 'blue', 'green']\n",
        "\n",
        "# Percentage of samples for each group\n",
        "perc_white_square = 25\n",
        "perc_white_circle = 25\n",
        "perc_colorful_square = 25\n",
        "perc_colorful_circle = 25\n",
        "\n",
        "# Means of normal distribution for the four groups\n",
        "mean_white_square = 50\n",
        "mean_white_circle = 50\n",
        "mean_colorful_square = 50\n",
        "mean_colorful_circle = 50\n",
        "\n",
        "# Sanity checks\n",
        "# Percentages must sum up to 100\n",
        "if not perc_white_square + perc_white_circle + perc_colorful_square + perc_colorful_circle == 100:\n",
        "  print(\"Warning: Percentages must add up to exactly 100 %.\")\n",
        "# Means must be in range 1-100\n",
        "if mean_white_square < 1 or mean_white_square > 100:\n",
        "  print(\"Warning: Mean for white squares must be between 1 and 100 (inclusive).\")\n",
        "if mean_white_circle < 1 or mean_white_circle > 100:\n",
        "  print(\"Warning: Mean for white circles must be between 1 and 100 (inclusive).\")\n",
        "if mean_colorful_square < 1 or mean_colorful_square > 100:\n",
        "  print(\"Warning: Mean for colorful squares must be between 1 and 100 (inclusive).\")\n",
        "if mean_colorful_circle < 1 or mean_colorful_circle > 100:\n",
        "  print(\"Warning: Mean for colorful circles must be between 1 and 100 (inclusive).\")\n",
        "\n",
        "# Calculate number of samples for each group\n",
        "n_white_square = round(n_samples * perc_white_square / 100)\n",
        "n_white_circle = round(n_samples * perc_white_circle / 100)\n",
        "n_colorful_square = round(n_samples * perc_colorful_square / 100)\n",
        "n_colorful_circle = round(n_samples * perc_colorful_circle / 100)"
      ],
      "execution_count": null,
      "outputs": []
    },
    {
      "cell_type": "markdown",
      "metadata": {
        "id": "RedGROgBijdq"
      },
      "source": [
        "## Truncated Normal Distribution"
      ]
    },
    {
      "cell_type": "code",
      "metadata": {
        "id": "H1NhLnMiitCA"
      },
      "source": [
        "def draw_from_truncated_normal_distribution(n_samples, mean, stddev = 10):\n",
        "  # Set lower and upper bounds for truncation\n",
        "  lower = 1\n",
        "  upper = 100\n",
        "  # Set parameters of normal distribution\n",
        "  mu = mean\n",
        "  sigma = stddev\n",
        "  # Randomly sample\n",
        "  samples = stats.truncnorm.rvs((lower-mu)/sigma, (upper-mu)/sigma, loc = mu, scale = sigma, size = n_samples)\n",
        "  return np.reshape(samples.round(), (n_samples, 1))"
      ],
      "execution_count": null,
      "outputs": []
    },
    {
      "cell_type": "markdown",
      "metadata": {
        "id": "RmN1BFyRgUud"
      },
      "source": [
        "## Sample Array"
      ]
    },
    {
      "cell_type": "code",
      "metadata": {
        "id": "Yf-9Ulc0gU0T"
      },
      "source": [
        "# White squares\n",
        "color = np.ones((n_white_square,1), dtype = bool) # True = white\n",
        "shape = np.ones((n_white_square,1), dtype = bool) # True = square\n",
        "size = draw_from_truncated_normal_distribution(n_white_square, mean_white_square)\n",
        "white_squares = np.hstack((color, shape, size))\n",
        "\n",
        "# White circles\n",
        "color = np.ones((n_white_circle,1), dtype = bool) # True = white\n",
        "shape = np.zeros((n_white_circle,1), dtype = bool) # False = circle\n",
        "size = draw_from_truncated_normal_distribution(n_white_circle, mean_white_circle)\n",
        "white_circles = np.hstack((color, shape, size))\n",
        "\n",
        "# Colorful squares\n",
        "color = np.zeros((n_colorful_square,1), dtype = bool) # False = colorful\n",
        "shape = np.ones((n_colorful_square,1), dtype = bool) # True = square\n",
        "size = draw_from_truncated_normal_distribution(n_colorful_square, mean_colorful_square)\n",
        "colorful_squares = np.hstack((color, shape, size))\n",
        "\n",
        "# Colorful circles\n",
        "color = np.zeros((n_colorful_circle,1), dtype = bool) # False = colorful\n",
        "shape = np.zeros((n_colorful_circle,1), dtype = bool) # False = circle\n",
        "size = draw_from_truncated_normal_distribution(n_colorful_circle, mean_colorful_circle)\n",
        "colorful_circles = np.hstack((color, shape, size))\n",
        "\n",
        "# Stack all together\n",
        "samples = np.vstack((white_squares, white_circles, colorful_squares, colorful_circles))\n",
        "\n",
        "# Shuffle array\n",
        "np.random.shuffle(samples)"
      ],
      "execution_count": null,
      "outputs": []
    },
    {
      "cell_type": "markdown",
      "metadata": {
        "id": "VFF3kN-KhvKE"
      },
      "source": [
        "## Generation Loop"
      ]
    },
    {
      "cell_type": "code",
      "metadata": {
        "id": "KWGxxbSqhuKw"
      },
      "source": [
        "# Set starting number for images\n",
        "img_no = 1\n",
        "\n",
        "# Iterate over samples and create images\n",
        "for sample in samples:\n",
        "  # Get color of sample\n",
        "  if sample[0]:\n",
        "    sample_color = 'white'\n",
        "  else:\n",
        "    sample_color = np.random.choice(colors)\n",
        "\n",
        "  # Get size of sample\n",
        "  sample_size = sample[2]\n",
        "\n",
        "  # Call shape generator based on sample shape\n",
        "  if sample[1]:\n",
        "    make_square(color = sample_color, size = sample_size, save = True, number = img_no, display = False)\n",
        "  else:\n",
        "    make_circle(color = sample_color, size = sample_size, save = True, number = img_no, display = False)\n",
        "\n",
        "  # Increase image number\n",
        "  img_no += 1  "
      ],
      "execution_count": null,
      "outputs": []
    }
  ]
}