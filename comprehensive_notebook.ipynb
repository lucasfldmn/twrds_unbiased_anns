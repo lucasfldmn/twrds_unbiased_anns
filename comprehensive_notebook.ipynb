{
  "nbformat": 4,
  "nbformat_minor": 0,
  "metadata": {
    "accelerator": "GPU",
    "colab": {
      "name": "Towards Unbiased Neural Networks from Biased Training Data.ipynb",
      "provenance": [],
      "collapsed_sections": [],
      "toc_visible": true,
      "authorship_tag": "ABX9TyNJeUnSrnyH7rK+EDf08vWS",
      "include_colab_link": true
    },
    "kernelspec": {
      "display_name": "Python 3",
      "name": "python3"
    },
    "language_info": {
      "name": "python"
    },
    "widgets": {
      "application/vnd.jupyter.widget-state+json": {
        "779b21f922aa434bb3e402d44613d63f": {
          "model_module": "@jupyter-widgets/controls",
          "model_name": "VBoxModel",
          "state": {
            "_view_name": "VBoxView",
            "_dom_classes": [],
            "_model_name": "VBoxModel",
            "_view_module": "@jupyter-widgets/controls",
            "_model_module_version": "1.5.0",
            "_view_count": null,
            "_view_module_version": "1.5.0",
            "box_style": "",
            "layout": "IPY_MODEL_f6fbeb7523c24d6289ca62d7d1a5f058",
            "_model_module": "@jupyter-widgets/controls",
            "children": [
              "IPY_MODEL_adefe6fdca0f4260aa89420d639194aa"
            ]
          }
        },
        "f6fbeb7523c24d6289ca62d7d1a5f058": {
          "model_module": "@jupyter-widgets/base",
          "model_name": "LayoutModel",
          "state": {
            "_view_name": "LayoutView",
            "grid_template_rows": null,
            "right": null,
            "justify_content": null,
            "_view_module": "@jupyter-widgets/base",
            "overflow": null,
            "_model_module_version": "1.2.0",
            "_view_count": null,
            "flex_flow": null,
            "width": null,
            "min_width": null,
            "border": null,
            "align_items": null,
            "bottom": null,
            "_model_module": "@jupyter-widgets/base",
            "top": null,
            "grid_column": null,
            "overflow_y": null,
            "overflow_x": null,
            "grid_auto_flow": null,
            "grid_area": null,
            "grid_template_columns": null,
            "flex": null,
            "_model_name": "LayoutModel",
            "justify_items": null,
            "grid_row": null,
            "max_height": null,
            "align_content": null,
            "visibility": null,
            "align_self": null,
            "height": null,
            "min_height": null,
            "padding": null,
            "grid_auto_rows": null,
            "grid_gap": null,
            "max_width": null,
            "order": null,
            "_view_module_version": "1.2.0",
            "grid_template_areas": null,
            "object_position": null,
            "object_fit": null,
            "grid_auto_columns": null,
            "margin": null,
            "display": null,
            "left": null
          }
        },
        "adefe6fdca0f4260aa89420d639194aa": {
          "model_module": "@jupyter-widgets/controls",
          "model_name": "VBoxModel",
          "state": {
            "_view_name": "VBoxView",
            "_dom_classes": [
              "widget-interact"
            ],
            "_model_name": "VBoxModel",
            "_view_module": "@jupyter-widgets/controls",
            "_model_module_version": "1.5.0",
            "_view_count": null,
            "_view_module_version": "1.5.0",
            "box_style": "",
            "layout": "IPY_MODEL_7abce9867473405eb31f1349a880d668",
            "_model_module": "@jupyter-widgets/controls",
            "children": [
              "IPY_MODEL_315283c66fe84dafa082b80006564835",
              "IPY_MODEL_37b2847fc0e642b7bc966276a623edd0",
              "IPY_MODEL_fd0b28d2a3304037afdaa1ae48be1db4"
            ]
          }
        },
        "7abce9867473405eb31f1349a880d668": {
          "model_module": "@jupyter-widgets/base",
          "model_name": "LayoutModel",
          "state": {
            "_view_name": "LayoutView",
            "grid_template_rows": null,
            "right": null,
            "justify_content": null,
            "_view_module": "@jupyter-widgets/base",
            "overflow": null,
            "_model_module_version": "1.2.0",
            "_view_count": null,
            "flex_flow": null,
            "width": null,
            "min_width": null,
            "border": null,
            "align_items": null,
            "bottom": null,
            "_model_module": "@jupyter-widgets/base",
            "top": null,
            "grid_column": null,
            "overflow_y": null,
            "overflow_x": null,
            "grid_auto_flow": null,
            "grid_area": null,
            "grid_template_columns": null,
            "flex": null,
            "_model_name": "LayoutModel",
            "justify_items": null,
            "grid_row": null,
            "max_height": null,
            "align_content": null,
            "visibility": null,
            "align_self": null,
            "height": null,
            "min_height": null,
            "padding": null,
            "grid_auto_rows": null,
            "grid_gap": null,
            "max_width": null,
            "order": null,
            "_view_module_version": "1.2.0",
            "grid_template_areas": null,
            "object_position": null,
            "object_fit": null,
            "grid_auto_columns": null,
            "margin": null,
            "display": null,
            "left": null
          }
        },
        "315283c66fe84dafa082b80006564835": {
          "model_module": "@jupyter-widgets/controls",
          "model_name": "FloatSliderModel",
          "state": {
            "_view_name": "FloatSliderView",
            "style": "IPY_MODEL_168eb7397fa94bd2b96b06f56d94c807",
            "_dom_classes": [],
            "description": "Mean:",
            "step": 1,
            "_model_name": "FloatSliderModel",
            "orientation": "horizontal",
            "max": 100,
            "_view_module": "@jupyter-widgets/controls",
            "_model_module_version": "1.5.0",
            "value": 100,
            "_view_count": null,
            "disabled": false,
            "_view_module_version": "1.5.0",
            "min": 50,
            "continuous_update": false,
            "readout_format": ".1f",
            "description_tooltip": null,
            "readout": true,
            "_model_module": "@jupyter-widgets/controls",
            "layout": "IPY_MODEL_683512a4edab4c17b7cef534e751a18e"
          }
        },
        "37b2847fc0e642b7bc966276a623edd0": {
          "model_module": "@jupyter-widgets/controls",
          "model_name": "FloatSliderModel",
          "state": {
            "_view_name": "FloatSliderView",
            "style": "IPY_MODEL_a47221ab149143f29175b3ff6e056c4a",
            "_dom_classes": [],
            "description": "Standard Deviation:",
            "step": 1,
            "_model_name": "FloatSliderModel",
            "orientation": "horizontal",
            "max": 40,
            "_view_module": "@jupyter-widgets/controls",
            "_model_module_version": "1.5.0",
            "value": 20,
            "_view_count": null,
            "disabled": false,
            "_view_module_version": "1.5.0",
            "min": 0,
            "continuous_update": false,
            "readout_format": ".1f",
            "description_tooltip": null,
            "readout": true,
            "_model_module": "@jupyter-widgets/controls",
            "layout": "IPY_MODEL_bd61da7804ad45129e34bb3d4776dd7b"
          }
        },
        "fd0b28d2a3304037afdaa1ae48be1db4": {
          "model_module": "@jupyter-widgets/output",
          "model_name": "OutputModel",
          "state": {
            "_view_name": "OutputView",
            "msg_id": "",
            "_dom_classes": [],
            "_model_name": "OutputModel",
            "outputs": [
              {
                "output_type": "display_data",
                "metadata": {
                  "tags": [],
                  "needs_background": "light"
                },
                "image/png": "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\n",
                "text/plain": "<Figure size 432x288 with 3 Axes>"
              }
            ],
            "_view_module": "@jupyter-widgets/output",
            "_model_module_version": "1.0.0",
            "_view_count": null,
            "_view_module_version": "1.0.0",
            "layout": "IPY_MODEL_365de8f1de1740adb84b5f8f76496305",
            "_model_module": "@jupyter-widgets/output"
          }
        },
        "168eb7397fa94bd2b96b06f56d94c807": {
          "model_module": "@jupyter-widgets/controls",
          "model_name": "SliderStyleModel",
          "state": {
            "_view_name": "StyleView",
            "handle_color": null,
            "_model_name": "SliderStyleModel",
            "description_width": "200px",
            "_view_module": "@jupyter-widgets/base",
            "_model_module_version": "1.5.0",
            "_view_count": null,
            "_view_module_version": "1.2.0",
            "_model_module": "@jupyter-widgets/controls"
          }
        },
        "683512a4edab4c17b7cef534e751a18e": {
          "model_module": "@jupyter-widgets/base",
          "model_name": "LayoutModel",
          "state": {
            "_view_name": "LayoutView",
            "grid_template_rows": null,
            "right": null,
            "justify_content": null,
            "_view_module": "@jupyter-widgets/base",
            "overflow": null,
            "_model_module_version": "1.2.0",
            "_view_count": null,
            "flex_flow": null,
            "width": "800px",
            "min_width": null,
            "border": null,
            "align_items": null,
            "bottom": null,
            "_model_module": "@jupyter-widgets/base",
            "top": null,
            "grid_column": null,
            "overflow_y": null,
            "overflow_x": null,
            "grid_auto_flow": null,
            "grid_area": null,
            "grid_template_columns": null,
            "flex": null,
            "_model_name": "LayoutModel",
            "justify_items": null,
            "grid_row": null,
            "max_height": null,
            "align_content": null,
            "visibility": null,
            "align_self": null,
            "height": null,
            "min_height": null,
            "padding": null,
            "grid_auto_rows": null,
            "grid_gap": null,
            "max_width": null,
            "order": null,
            "_view_module_version": "1.2.0",
            "grid_template_areas": null,
            "object_position": null,
            "object_fit": null,
            "grid_auto_columns": null,
            "margin": null,
            "display": null,
            "left": null
          }
        },
        "a47221ab149143f29175b3ff6e056c4a": {
          "model_module": "@jupyter-widgets/controls",
          "model_name": "SliderStyleModel",
          "state": {
            "_view_name": "StyleView",
            "handle_color": null,
            "_model_name": "SliderStyleModel",
            "description_width": "200px",
            "_view_module": "@jupyter-widgets/base",
            "_model_module_version": "1.5.0",
            "_view_count": null,
            "_view_module_version": "1.2.0",
            "_model_module": "@jupyter-widgets/controls"
          }
        },
        "bd61da7804ad45129e34bb3d4776dd7b": {
          "model_module": "@jupyter-widgets/base",
          "model_name": "LayoutModel",
          "state": {
            "_view_name": "LayoutView",
            "grid_template_rows": null,
            "right": null,
            "justify_content": null,
            "_view_module": "@jupyter-widgets/base",
            "overflow": null,
            "_model_module_version": "1.2.0",
            "_view_count": null,
            "flex_flow": null,
            "width": "800px",
            "min_width": null,
            "border": null,
            "align_items": null,
            "bottom": null,
            "_model_module": "@jupyter-widgets/base",
            "top": null,
            "grid_column": null,
            "overflow_y": null,
            "overflow_x": null,
            "grid_auto_flow": null,
            "grid_area": null,
            "grid_template_columns": null,
            "flex": null,
            "_model_name": "LayoutModel",
            "justify_items": null,
            "grid_row": null,
            "max_height": null,
            "align_content": null,
            "visibility": null,
            "align_self": null,
            "height": null,
            "min_height": null,
            "padding": null,
            "grid_auto_rows": null,
            "grid_gap": null,
            "max_width": null,
            "order": null,
            "_view_module_version": "1.2.0",
            "grid_template_areas": null,
            "object_position": null,
            "object_fit": null,
            "grid_auto_columns": null,
            "margin": null,
            "display": null,
            "left": null
          }
        },
        "365de8f1de1740adb84b5f8f76496305": {
          "model_module": "@jupyter-widgets/base",
          "model_name": "LayoutModel",
          "state": {
            "_view_name": "LayoutView",
            "grid_template_rows": null,
            "right": null,
            "justify_content": null,
            "_view_module": "@jupyter-widgets/base",
            "overflow": null,
            "_model_module_version": "1.2.0",
            "_view_count": null,
            "flex_flow": null,
            "width": null,
            "min_width": null,
            "border": null,
            "align_items": null,
            "bottom": null,
            "_model_module": "@jupyter-widgets/base",
            "top": null,
            "grid_column": null,
            "overflow_y": null,
            "overflow_x": null,
            "grid_auto_flow": null,
            "grid_area": null,
            "grid_template_columns": null,
            "flex": null,
            "_model_name": "LayoutModel",
            "justify_items": null,
            "grid_row": null,
            "max_height": null,
            "align_content": null,
            "visibility": null,
            "align_self": null,
            "height": null,
            "min_height": null,
            "padding": null,
            "grid_auto_rows": null,
            "grid_gap": null,
            "max_width": null,
            "order": null,
            "_view_module_version": "1.2.0",
            "grid_template_areas": null,
            "object_position": null,
            "object_fit": null,
            "grid_auto_columns": null,
            "margin": null,
            "display": null,
            "left": null
          }
        },
        "f700d006bf09475ba22d2ec38f3c64b7": {
          "model_module": "@jupyter-widgets/controls",
          "model_name": "HBoxModel",
          "state": {
            "_dom_classes": [],
            "_model_module": "@jupyter-widgets/controls",
            "_model_module_version": "1.5.0",
            "_model_name": "HBoxModel",
            "_view_count": null,
            "_view_module": "@jupyter-widgets/controls",
            "_view_module_version": "1.5.0",
            "_view_name": "HBoxView",
            "box_style": "",
            "children": [
              "IPY_MODEL_61e23bfcfda843c9a401a07013a3444c",
              "IPY_MODEL_855a2dbc0987470888f057a61afe2fa1",
              "IPY_MODEL_119d925761b6411eaf14832177e66bea"
            ],
            "layout": "IPY_MODEL_dacda62b93e9434cb444154e86ce7458"
          }
        },
        "61e23bfcfda843c9a401a07013a3444c": {
          "model_module": "@jupyter-widgets/controls",
          "model_name": "HTMLModel",
          "state": {
            "_dom_classes": [],
            "_model_module": "@jupyter-widgets/controls",
            "_model_module_version": "1.5.0",
            "_model_name": "HTMLModel",
            "_view_count": null,
            "_view_module": "@jupyter-widgets/controls",
            "_view_module_version": "1.5.0",
            "_view_name": "HTMLView",
            "description": "",
            "description_tooltip": null,
            "layout": "IPY_MODEL_970019905f8348ef8fe31d36219eebe0",
            "placeholder": "​",
            "style": "IPY_MODEL_21edbe6f2d50480db1c3008fa4281d15",
            "value": "100%"
          }
        },
        "855a2dbc0987470888f057a61afe2fa1": {
          "model_module": "@jupyter-widgets/controls",
          "model_name": "FloatProgressModel",
          "state": {
            "_dom_classes": [],
            "_model_module": "@jupyter-widgets/controls",
            "_model_module_version": "1.5.0",
            "_model_name": "FloatProgressModel",
            "_view_count": null,
            "_view_module": "@jupyter-widgets/controls",
            "_view_module_version": "1.5.0",
            "_view_name": "ProgressView",
            "bar_style": "success",
            "description": "",
            "description_tooltip": null,
            "layout": "IPY_MODEL_dac84db409804c99be21033dee476c4b",
            "max": 24,
            "min": 0,
            "orientation": "horizontal",
            "style": "IPY_MODEL_5d2673c5b13244d8b268e2708ce74f40",
            "value": 24
          }
        },
        "119d925761b6411eaf14832177e66bea": {
          "model_module": "@jupyter-widgets/controls",
          "model_name": "HTMLModel",
          "state": {
            "_dom_classes": [],
            "_model_module": "@jupyter-widgets/controls",
            "_model_module_version": "1.5.0",
            "_model_name": "HTMLModel",
            "_view_count": null,
            "_view_module": "@jupyter-widgets/controls",
            "_view_module_version": "1.5.0",
            "_view_name": "HTMLView",
            "description": "",
            "description_tooltip": null,
            "layout": "IPY_MODEL_d448ef21521243d3aee623d22222d8a9",
            "placeholder": "​",
            "style": "IPY_MODEL_656ee8319e134f03900c3d7139e7eeee",
            "value": " 24/24 [2:09:48&lt;00:00, 314.50s/it]"
          }
        },
        "dacda62b93e9434cb444154e86ce7458": {
          "model_module": "@jupyter-widgets/base",
          "model_name": "LayoutModel",
          "state": {
            "_model_module": "@jupyter-widgets/base",
            "_model_module_version": "1.2.0",
            "_model_name": "LayoutModel",
            "_view_count": null,
            "_view_module": "@jupyter-widgets/base",
            "_view_module_version": "1.2.0",
            "_view_name": "LayoutView",
            "align_content": null,
            "align_items": null,
            "align_self": null,
            "border": null,
            "bottom": null,
            "display": null,
            "flex": null,
            "flex_flow": null,
            "grid_area": null,
            "grid_auto_columns": null,
            "grid_auto_flow": null,
            "grid_auto_rows": null,
            "grid_column": null,
            "grid_gap": null,
            "grid_row": null,
            "grid_template_areas": null,
            "grid_template_columns": null,
            "grid_template_rows": null,
            "height": null,
            "justify_content": null,
            "justify_items": null,
            "left": null,
            "margin": null,
            "max_height": null,
            "max_width": null,
            "min_height": null,
            "min_width": null,
            "object_fit": null,
            "object_position": null,
            "order": null,
            "overflow": null,
            "overflow_x": null,
            "overflow_y": null,
            "padding": null,
            "right": null,
            "top": null,
            "visibility": null,
            "width": null
          }
        },
        "970019905f8348ef8fe31d36219eebe0": {
          "model_module": "@jupyter-widgets/base",
          "model_name": "LayoutModel",
          "state": {
            "_model_module": "@jupyter-widgets/base",
            "_model_module_version": "1.2.0",
            "_model_name": "LayoutModel",
            "_view_count": null,
            "_view_module": "@jupyter-widgets/base",
            "_view_module_version": "1.2.0",
            "_view_name": "LayoutView",
            "align_content": null,
            "align_items": null,
            "align_self": null,
            "border": null,
            "bottom": null,
            "display": null,
            "flex": null,
            "flex_flow": null,
            "grid_area": null,
            "grid_auto_columns": null,
            "grid_auto_flow": null,
            "grid_auto_rows": null,
            "grid_column": null,
            "grid_gap": null,
            "grid_row": null,
            "grid_template_areas": null,
            "grid_template_columns": null,
            "grid_template_rows": null,
            "height": null,
            "justify_content": null,
            "justify_items": null,
            "left": null,
            "margin": null,
            "max_height": null,
            "max_width": null,
            "min_height": null,
            "min_width": null,
            "object_fit": null,
            "object_position": null,
            "order": null,
            "overflow": null,
            "overflow_x": null,
            "overflow_y": null,
            "padding": null,
            "right": null,
            "top": null,
            "visibility": null,
            "width": null
          }
        },
        "21edbe6f2d50480db1c3008fa4281d15": {
          "model_module": "@jupyter-widgets/controls",
          "model_name": "DescriptionStyleModel",
          "state": {
            "_model_module": "@jupyter-widgets/controls",
            "_model_module_version": "1.5.0",
            "_model_name": "DescriptionStyleModel",
            "_view_count": null,
            "_view_module": "@jupyter-widgets/base",
            "_view_module_version": "1.2.0",
            "_view_name": "StyleView",
            "description_width": ""
          }
        },
        "dac84db409804c99be21033dee476c4b": {
          "model_module": "@jupyter-widgets/base",
          "model_name": "LayoutModel",
          "state": {
            "_model_module": "@jupyter-widgets/base",
            "_model_module_version": "1.2.0",
            "_model_name": "LayoutModel",
            "_view_count": null,
            "_view_module": "@jupyter-widgets/base",
            "_view_module_version": "1.2.0",
            "_view_name": "LayoutView",
            "align_content": null,
            "align_items": null,
            "align_self": null,
            "border": null,
            "bottom": null,
            "display": null,
            "flex": null,
            "flex_flow": null,
            "grid_area": null,
            "grid_auto_columns": null,
            "grid_auto_flow": null,
            "grid_auto_rows": null,
            "grid_column": null,
            "grid_gap": null,
            "grid_row": null,
            "grid_template_areas": null,
            "grid_template_columns": null,
            "grid_template_rows": null,
            "height": null,
            "justify_content": null,
            "justify_items": null,
            "left": null,
            "margin": null,
            "max_height": null,
            "max_width": null,
            "min_height": null,
            "min_width": null,
            "object_fit": null,
            "object_position": null,
            "order": null,
            "overflow": null,
            "overflow_x": null,
            "overflow_y": null,
            "padding": null,
            "right": null,
            "top": null,
            "visibility": null,
            "width": null
          }
        },
        "5d2673c5b13244d8b268e2708ce74f40": {
          "model_module": "@jupyter-widgets/controls",
          "model_name": "ProgressStyleModel",
          "state": {
            "_model_module": "@jupyter-widgets/controls",
            "_model_module_version": "1.5.0",
            "_model_name": "ProgressStyleModel",
            "_view_count": null,
            "_view_module": "@jupyter-widgets/base",
            "_view_module_version": "1.2.0",
            "_view_name": "StyleView",
            "bar_color": null,
            "description_width": ""
          }
        },
        "d448ef21521243d3aee623d22222d8a9": {
          "model_module": "@jupyter-widgets/base",
          "model_name": "LayoutModel",
          "state": {
            "_model_module": "@jupyter-widgets/base",
            "_model_module_version": "1.2.0",
            "_model_name": "LayoutModel",
            "_view_count": null,
            "_view_module": "@jupyter-widgets/base",
            "_view_module_version": "1.2.0",
            "_view_name": "LayoutView",
            "align_content": null,
            "align_items": null,
            "align_self": null,
            "border": null,
            "bottom": null,
            "display": null,
            "flex": null,
            "flex_flow": null,
            "grid_area": null,
            "grid_auto_columns": null,
            "grid_auto_flow": null,
            "grid_auto_rows": null,
            "grid_column": null,
            "grid_gap": null,
            "grid_row": null,
            "grid_template_areas": null,
            "grid_template_columns": null,
            "grid_template_rows": null,
            "height": null,
            "justify_content": null,
            "justify_items": null,
            "left": null,
            "margin": null,
            "max_height": null,
            "max_width": null,
            "min_height": null,
            "min_width": null,
            "object_fit": null,
            "object_position": null,
            "order": null,
            "overflow": null,
            "overflow_x": null,
            "overflow_y": null,
            "padding": null,
            "right": null,
            "top": null,
            "visibility": null,
            "width": null
          }
        },
        "656ee8319e134f03900c3d7139e7eeee": {
          "model_module": "@jupyter-widgets/controls",
          "model_name": "DescriptionStyleModel",
          "state": {
            "_model_module": "@jupyter-widgets/controls",
            "_model_module_version": "1.5.0",
            "_model_name": "DescriptionStyleModel",
            "_view_count": null,
            "_view_module": "@jupyter-widgets/base",
            "_view_module_version": "1.2.0",
            "_view_name": "StyleView",
            "description_width": ""
          }
        },
        "5d04f0f8368a45aab6ddfd00233d7888": {
          "model_module": "@jupyter-widgets/controls",
          "model_name": "VBoxModel",
          "state": {
            "_view_name": "VBoxView",
            "_dom_classes": [],
            "_model_name": "VBoxModel",
            "_view_module": "@jupyter-widgets/controls",
            "_model_module_version": "1.5.0",
            "_view_count": null,
            "_view_module_version": "1.5.0",
            "box_style": "",
            "layout": "IPY_MODEL_270fbc7380074c7e9e218244649efb66",
            "_model_module": "@jupyter-widgets/controls",
            "children": [
              "IPY_MODEL_c8e64633367b4bb1a5d29f4f4ba1c53e"
            ]
          }
        },
        "270fbc7380074c7e9e218244649efb66": {
          "model_module": "@jupyter-widgets/base",
          "model_name": "LayoutModel",
          "state": {
            "_view_name": "LayoutView",
            "grid_template_rows": null,
            "right": null,
            "justify_content": null,
            "_view_module": "@jupyter-widgets/base",
            "overflow": null,
            "_model_module_version": "1.2.0",
            "_view_count": null,
            "flex_flow": null,
            "width": null,
            "min_width": null,
            "border": null,
            "align_items": null,
            "bottom": null,
            "_model_module": "@jupyter-widgets/base",
            "top": null,
            "grid_column": null,
            "overflow_y": null,
            "overflow_x": null,
            "grid_auto_flow": null,
            "grid_area": null,
            "grid_template_columns": null,
            "flex": null,
            "_model_name": "LayoutModel",
            "justify_items": null,
            "grid_row": null,
            "max_height": null,
            "align_content": null,
            "visibility": null,
            "align_self": null,
            "height": null,
            "min_height": null,
            "padding": null,
            "grid_auto_rows": null,
            "grid_gap": null,
            "max_width": null,
            "order": null,
            "_view_module_version": "1.2.0",
            "grid_template_areas": null,
            "object_position": null,
            "object_fit": null,
            "grid_auto_columns": null,
            "margin": null,
            "display": null,
            "left": null
          }
        },
        "c8e64633367b4bb1a5d29f4f4ba1c53e": {
          "model_module": "@jupyter-widgets/controls",
          "model_name": "VBoxModel",
          "state": {
            "_view_name": "VBoxView",
            "_dom_classes": [
              "widget-interact"
            ],
            "_model_name": "VBoxModel",
            "_view_module": "@jupyter-widgets/controls",
            "_model_module_version": "1.5.0",
            "_view_count": null,
            "_view_module_version": "1.5.0",
            "box_style": "",
            "layout": "IPY_MODEL_e04b51a9b4e04c09b19a5262dc7983e5",
            "_model_module": "@jupyter-widgets/controls",
            "children": [
              "IPY_MODEL_aa21ae32abf04f6d9eea15311df50745",
              "IPY_MODEL_d3a95ae41fe9498590dc81df4f231896",
              "IPY_MODEL_ad932102adbd4c8f9f972b402b19eb5f",
              "IPY_MODEL_4597185896b24891b3a3f72670c38b39",
              "IPY_MODEL_e2c22d128f454104b4067ecd909e7e4d"
            ]
          }
        },
        "e04b51a9b4e04c09b19a5262dc7983e5": {
          "model_module": "@jupyter-widgets/base",
          "model_name": "LayoutModel",
          "state": {
            "_view_name": "LayoutView",
            "grid_template_rows": null,
            "right": null,
            "justify_content": null,
            "_view_module": "@jupyter-widgets/base",
            "overflow": null,
            "_model_module_version": "1.2.0",
            "_view_count": null,
            "flex_flow": null,
            "width": null,
            "min_width": null,
            "border": null,
            "align_items": null,
            "bottom": null,
            "_model_module": "@jupyter-widgets/base",
            "top": null,
            "grid_column": null,
            "overflow_y": null,
            "overflow_x": null,
            "grid_auto_flow": null,
            "grid_area": null,
            "grid_template_columns": null,
            "flex": null,
            "_model_name": "LayoutModel",
            "justify_items": null,
            "grid_row": null,
            "max_height": null,
            "align_content": null,
            "visibility": null,
            "align_self": null,
            "height": null,
            "min_height": null,
            "padding": null,
            "grid_auto_rows": null,
            "grid_gap": null,
            "max_width": null,
            "order": null,
            "_view_module_version": "1.2.0",
            "grid_template_areas": null,
            "object_position": null,
            "object_fit": null,
            "grid_auto_columns": null,
            "margin": null,
            "display": null,
            "left": null
          }
        },
        "aa21ae32abf04f6d9eea15311df50745": {
          "model_module": "@jupyter-widgets/controls",
          "model_name": "SelectModel",
          "state": {
            "_options_labels": [
              "color",
              "shape"
            ],
            "_view_name": "SelectView",
            "style": "IPY_MODEL_cb8525f1dc7448509c5061ca202a8d19",
            "rows": 5,
            "_dom_classes": [],
            "description": "Distractor:",
            "_model_name": "SelectModel",
            "index": 1,
            "_view_module": "@jupyter-widgets/controls",
            "_model_module_version": "1.5.0",
            "_view_count": null,
            "disabled": false,
            "_view_module_version": "1.5.0",
            "description_tooltip": null,
            "_model_module": "@jupyter-widgets/controls",
            "layout": "IPY_MODEL_988a94ee730348ce8ce354de2644b468"
          }
        },
        "d3a95ae41fe9498590dc81df4f231896": {
          "model_module": "@jupyter-widgets/controls",
          "model_name": "IntSliderModel",
          "state": {
            "_view_name": "IntSliderView",
            "style": "IPY_MODEL_fa72c23582d64b89a1fbc937ef37ee10",
            "_dom_classes": [],
            "description": "Mean:",
            "step": 25,
            "_model_name": "IntSliderModel",
            "orientation": "horizontal",
            "max": 100,
            "_view_module": "@jupyter-widgets/controls",
            "_model_module_version": "1.5.0",
            "value": 75,
            "_view_count": null,
            "disabled": false,
            "_view_module_version": "1.5.0",
            "min": 50,
            "continuous_update": false,
            "readout_format": "d",
            "description_tooltip": null,
            "readout": true,
            "_model_module": "@jupyter-widgets/controls",
            "layout": "IPY_MODEL_d0cb227c219c4cb39b26475daf1f05ad"
          }
        },
        "ad932102adbd4c8f9f972b402b19eb5f": {
          "model_module": "@jupyter-widgets/controls",
          "model_name": "IntSliderModel",
          "state": {
            "_view_name": "IntSliderView",
            "style": "IPY_MODEL_3a25e7ad6a1242878caee567feb3af11",
            "_dom_classes": [],
            "description": "Standard Deviation:",
            "step": 17,
            "_model_name": "IntSliderModel",
            "orientation": "horizontal",
            "max": 20,
            "_view_module": "@jupyter-widgets/controls",
            "_model_module_version": "1.5.0",
            "value": 20,
            "_view_count": null,
            "disabled": false,
            "_view_module_version": "1.5.0",
            "min": 3,
            "continuous_update": false,
            "readout_format": "d",
            "description_tooltip": null,
            "readout": true,
            "_model_module": "@jupyter-widgets/controls",
            "layout": "IPY_MODEL_b29fc7e42a0747c1b76ba01a1ab3246a"
          }
        },
        "4597185896b24891b3a3f72670c38b39": {
          "model_module": "@jupyter-widgets/controls",
          "model_name": "IntSliderModel",
          "state": {
            "_view_name": "IntSliderView",
            "style": "IPY_MODEL_af01cdb0a38b49968ea8c41804692917",
            "_dom_classes": [],
            "description": "Share:",
            "step": 45,
            "_model_name": "IntSliderModel",
            "orientation": "horizontal",
            "max": 50,
            "_view_module": "@jupyter-widgets/controls",
            "_model_module_version": "1.5.0",
            "value": 50,
            "_view_count": null,
            "disabled": false,
            "_view_module_version": "1.5.0",
            "min": 5,
            "continuous_update": false,
            "readout_format": "d",
            "description_tooltip": null,
            "readout": true,
            "_model_module": "@jupyter-widgets/controls",
            "layout": "IPY_MODEL_77329fee8b3146e3a49249ebd6756308"
          }
        },
        "e2c22d128f454104b4067ecd909e7e4d": {
          "model_module": "@jupyter-widgets/output",
          "model_name": "OutputModel",
          "state": {
            "_view_name": "OutputView",
            "msg_id": "",
            "_dom_classes": [],
            "_model_name": "OutputModel",
            "outputs": [
              {
                "output_type": "display_data",
                "metadata": {
                  "tags": [],
                  "needs_background": "light"
                },
                "image/png": "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\n",
                "text/plain": "<Figure size 432x288 with 3 Axes>"
              }
            ],
            "_view_module": "@jupyter-widgets/output",
            "_model_module_version": "1.0.0",
            "_view_count": null,
            "_view_module_version": "1.0.0",
            "layout": "IPY_MODEL_cc87518474a749a8aa4d744a6022f114",
            "_model_module": "@jupyter-widgets/output"
          }
        },
        "cb8525f1dc7448509c5061ca202a8d19": {
          "model_module": "@jupyter-widgets/controls",
          "model_name": "DescriptionStyleModel",
          "state": {
            "_view_name": "StyleView",
            "_model_name": "DescriptionStyleModel",
            "description_width": "",
            "_view_module": "@jupyter-widgets/base",
            "_model_module_version": "1.5.0",
            "_view_count": null,
            "_view_module_version": "1.2.0",
            "_model_module": "@jupyter-widgets/controls"
          }
        },
        "988a94ee730348ce8ce354de2644b468": {
          "model_module": "@jupyter-widgets/base",
          "model_name": "LayoutModel",
          "state": {
            "_view_name": "LayoutView",
            "grid_template_rows": null,
            "right": null,
            "justify_content": null,
            "_view_module": "@jupyter-widgets/base",
            "overflow": null,
            "_model_module_version": "1.2.0",
            "_view_count": null,
            "flex_flow": null,
            "width": null,
            "min_width": null,
            "border": null,
            "align_items": null,
            "bottom": null,
            "_model_module": "@jupyter-widgets/base",
            "top": null,
            "grid_column": null,
            "overflow_y": null,
            "overflow_x": null,
            "grid_auto_flow": null,
            "grid_area": null,
            "grid_template_columns": null,
            "flex": null,
            "_model_name": "LayoutModel",
            "justify_items": null,
            "grid_row": null,
            "max_height": null,
            "align_content": null,
            "visibility": null,
            "align_self": null,
            "height": null,
            "min_height": null,
            "padding": null,
            "grid_auto_rows": null,
            "grid_gap": null,
            "max_width": null,
            "order": null,
            "_view_module_version": "1.2.0",
            "grid_template_areas": null,
            "object_position": null,
            "object_fit": null,
            "grid_auto_columns": null,
            "margin": null,
            "display": null,
            "left": null
          }
        },
        "fa72c23582d64b89a1fbc937ef37ee10": {
          "model_module": "@jupyter-widgets/controls",
          "model_name": "SliderStyleModel",
          "state": {
            "_view_name": "StyleView",
            "handle_color": null,
            "_model_name": "SliderStyleModel",
            "description_width": "200px",
            "_view_module": "@jupyter-widgets/base",
            "_model_module_version": "1.5.0",
            "_view_count": null,
            "_view_module_version": "1.2.0",
            "_model_module": "@jupyter-widgets/controls"
          }
        },
        "d0cb227c219c4cb39b26475daf1f05ad": {
          "model_module": "@jupyter-widgets/base",
          "model_name": "LayoutModel",
          "state": {
            "_view_name": "LayoutView",
            "grid_template_rows": null,
            "right": null,
            "justify_content": null,
            "_view_module": "@jupyter-widgets/base",
            "overflow": null,
            "_model_module_version": "1.2.0",
            "_view_count": null,
            "flex_flow": null,
            "width": "800px",
            "min_width": null,
            "border": null,
            "align_items": null,
            "bottom": null,
            "_model_module": "@jupyter-widgets/base",
            "top": null,
            "grid_column": null,
            "overflow_y": null,
            "overflow_x": null,
            "grid_auto_flow": null,
            "grid_area": null,
            "grid_template_columns": null,
            "flex": null,
            "_model_name": "LayoutModel",
            "justify_items": null,
            "grid_row": null,
            "max_height": null,
            "align_content": null,
            "visibility": null,
            "align_self": null,
            "height": null,
            "min_height": null,
            "padding": null,
            "grid_auto_rows": null,
            "grid_gap": null,
            "max_width": null,
            "order": null,
            "_view_module_version": "1.2.0",
            "grid_template_areas": null,
            "object_position": null,
            "object_fit": null,
            "grid_auto_columns": null,
            "margin": null,
            "display": null,
            "left": null
          }
        },
        "3a25e7ad6a1242878caee567feb3af11": {
          "model_module": "@jupyter-widgets/controls",
          "model_name": "SliderStyleModel",
          "state": {
            "_view_name": "StyleView",
            "handle_color": null,
            "_model_name": "SliderStyleModel",
            "description_width": "200px",
            "_view_module": "@jupyter-widgets/base",
            "_model_module_version": "1.5.0",
            "_view_count": null,
            "_view_module_version": "1.2.0",
            "_model_module": "@jupyter-widgets/controls"
          }
        },
        "b29fc7e42a0747c1b76ba01a1ab3246a": {
          "model_module": "@jupyter-widgets/base",
          "model_name": "LayoutModel",
          "state": {
            "_view_name": "LayoutView",
            "grid_template_rows": null,
            "right": null,
            "justify_content": null,
            "_view_module": "@jupyter-widgets/base",
            "overflow": null,
            "_model_module_version": "1.2.0",
            "_view_count": null,
            "flex_flow": null,
            "width": "800px",
            "min_width": null,
            "border": null,
            "align_items": null,
            "bottom": null,
            "_model_module": "@jupyter-widgets/base",
            "top": null,
            "grid_column": null,
            "overflow_y": null,
            "overflow_x": null,
            "grid_auto_flow": null,
            "grid_area": null,
            "grid_template_columns": null,
            "flex": null,
            "_model_name": "LayoutModel",
            "justify_items": null,
            "grid_row": null,
            "max_height": null,
            "align_content": null,
            "visibility": null,
            "align_self": null,
            "height": null,
            "min_height": null,
            "padding": null,
            "grid_auto_rows": null,
            "grid_gap": null,
            "max_width": null,
            "order": null,
            "_view_module_version": "1.2.0",
            "grid_template_areas": null,
            "object_position": null,
            "object_fit": null,
            "grid_auto_columns": null,
            "margin": null,
            "display": null,
            "left": null
          }
        },
        "af01cdb0a38b49968ea8c41804692917": {
          "model_module": "@jupyter-widgets/controls",
          "model_name": "SliderStyleModel",
          "state": {
            "_view_name": "StyleView",
            "handle_color": null,
            "_model_name": "SliderStyleModel",
            "description_width": "200px",
            "_view_module": "@jupyter-widgets/base",
            "_model_module_version": "1.5.0",
            "_view_count": null,
            "_view_module_version": "1.2.0",
            "_model_module": "@jupyter-widgets/controls"
          }
        },
        "77329fee8b3146e3a49249ebd6756308": {
          "model_module": "@jupyter-widgets/base",
          "model_name": "LayoutModel",
          "state": {
            "_view_name": "LayoutView",
            "grid_template_rows": null,
            "right": null,
            "justify_content": null,
            "_view_module": "@jupyter-widgets/base",
            "overflow": null,
            "_model_module_version": "1.2.0",
            "_view_count": null,
            "flex_flow": null,
            "width": "800px",
            "min_width": null,
            "border": null,
            "align_items": null,
            "bottom": null,
            "_model_module": "@jupyter-widgets/base",
            "top": null,
            "grid_column": null,
            "overflow_y": null,
            "overflow_x": null,
            "grid_auto_flow": null,
            "grid_area": null,
            "grid_template_columns": null,
            "flex": null,
            "_model_name": "LayoutModel",
            "justify_items": null,
            "grid_row": null,
            "max_height": null,
            "align_content": null,
            "visibility": null,
            "align_self": null,
            "height": null,
            "min_height": null,
            "padding": null,
            "grid_auto_rows": null,
            "grid_gap": null,
            "max_width": null,
            "order": null,
            "_view_module_version": "1.2.0",
            "grid_template_areas": null,
            "object_position": null,
            "object_fit": null,
            "grid_auto_columns": null,
            "margin": null,
            "display": null,
            "left": null
          }
        },
        "cc87518474a749a8aa4d744a6022f114": {
          "model_module": "@jupyter-widgets/base",
          "model_name": "LayoutModel",
          "state": {
            "_view_name": "LayoutView",
            "grid_template_rows": null,
            "right": null,
            "justify_content": null,
            "_view_module": "@jupyter-widgets/base",
            "overflow": null,
            "_model_module_version": "1.2.0",
            "_view_count": null,
            "flex_flow": null,
            "width": null,
            "min_width": null,
            "border": null,
            "align_items": null,
            "bottom": null,
            "_model_module": "@jupyter-widgets/base",
            "top": null,
            "grid_column": null,
            "overflow_y": null,
            "overflow_x": null,
            "grid_auto_flow": null,
            "grid_area": null,
            "grid_template_columns": null,
            "flex": null,
            "_model_name": "LayoutModel",
            "justify_items": null,
            "grid_row": null,
            "max_height": null,
            "align_content": null,
            "visibility": null,
            "align_self": null,
            "height": null,
            "min_height": null,
            "padding": null,
            "grid_auto_rows": null,
            "grid_gap": null,
            "max_width": null,
            "order": null,
            "_view_module_version": "1.2.0",
            "grid_template_areas": null,
            "object_position": null,
            "object_fit": null,
            "grid_auto_columns": null,
            "margin": null,
            "display": null,
            "left": null
          }
        }
      }
    }
  },
  "cells": [
    {
      "cell_type": "markdown",
      "metadata": {
        "id": "view-in-github",
        "colab_type": "text"
      },
      "source": [
        "<a href=\"https://colab.research.google.com/github/lucasfldmn/twrds_unbiased_anns/blob/main/comprehensive_notebook.ipynb\" target=\"_parent\"><img src=\"https://colab.research.google.com/assets/colab-badge.svg\" alt=\"Open In Colab\"/></a>"
      ]
    },
    {
      "cell_type": "markdown",
      "metadata": {
        "id": "HcjjLjz4OMIH"
      },
      "source": [
        "# Introduction\n",
        "\n",
        "This notebook accompanies the thesis \"Towards Unbiased Neural Networks from Biased Training Data\". We provide a fully functional implementation of the most important findings in order to replicate them within this notebook in the spirit of open science. \n",
        "\n",
        "As the structure of this notebook mirrors that of the thesis we encourage the reader to jump back-and-forth for a more detailed or a moore implementation-focussed perspective.\n",
        "\n",
        "Note that this notebook is **not** a complete TL;DR of the thesis as we will skip the theoretical background and disregard bias in classification settings completely. We will also not provide references within this notebook as you can find them in the related chapter in the thesis.\n",
        "\n",
        "Now, let's start by framing the problem: Artifical intelligence (AI) and machine learning (ML) are taking the world by storm and they are increasingly employed in high-stakes tasks such as disease detection or credit scoring. \n",
        "\n",
        "In recent years, many machine learning applications have shown discrimination against subgroups of the population with minorities being affected more frequently. Examples of such \"machine bias\" span from large tech companies to small groups of researchers with severe consequences. For example, a black man was wronfully accused of a crime based on erroneous but confident security video footage analysis using machine learning.\n",
        "\n",
        "A lot of research on preventing machine bias focuses on measuring and removing bias from popular training data sets. This is not enough for a practical setting where training data is often proprietary and no system of checks and balances is in place to measure let alone prevent discrimination.\n",
        "\n",
        "We aim to create a minimal working example of a convolutional neural network (CNN) that is robust against bias in the training data. To enable this, we create a framework using artificial training images that allows us to investigate more closely how features of biased training data affect learning of discrimination."
      ]
    },
    {
      "cell_type": "markdown",
      "metadata": {
        "id": "ZQh5qvAgOBlm"
      },
      "source": [
        "# Preparations\n",
        "\n",
        "While you ponder the wide-reaching implications that machine bias can have on modern society, let us set up the colab environment by importing all necessary packages as well as additional functions.\n",
        "\n",
        "First of all, if you are running this notebook in a virtual Google Colaboratory environment (which we recommend to save time setting up a local environment), please set the hardware accelaration to \"GPU\". Training of larger CNNs is just faster this way. [This tutorial](https://www.geeksforgeeks.org/how-to-use-google-colab/) shows you how to set the runtime type."
      ]
    },
    {
      "cell_type": "markdown",
      "metadata": {
        "id": "HgNqAqqrsXMi"
      },
      "source": [
        "## Package Upgrades\n",
        "\n",
        "This makes for a nicer progress bar."
      ]
    },
    {
      "cell_type": "code",
      "metadata": {
        "colab": {
          "base_uri": "https://localhost:8080/"
        },
        "id": "8TyxnNQpsWSW",
        "outputId": "a600ced7-377c-4de1-c742-40970e91c711"
      },
      "source": [
        "!pip install tqdm --upgrade"
      ],
      "execution_count": null,
      "outputs": [
        {
          "output_type": "stream",
          "text": [
            "Collecting tqdm\n",
            "\u001b[?25l  Downloading https://files.pythonhosted.org/packages/42/d7/f357d98e9b50346bcb6095fe3ad205d8db3174eb5edb03edfe7c4099576d/tqdm-4.61.0-py2.py3-none-any.whl (75kB)\n",
            "\r\u001b[K     |████▎                           | 10kB 21.6MB/s eta 0:00:01\r\u001b[K     |████████▋                       | 20kB 19.8MB/s eta 0:00:01\r\u001b[K     |█████████████                   | 30kB 15.7MB/s eta 0:00:01\r\u001b[K     |█████████████████▎              | 40kB 14.2MB/s eta 0:00:01\r\u001b[K     |█████████████████████▋          | 51kB 7.7MB/s eta 0:00:01\r\u001b[K     |██████████████████████████      | 61kB 9.0MB/s eta 0:00:01\r\u001b[K     |██████████████████████████████▎ | 71kB 8.7MB/s eta 0:00:01\r\u001b[K     |████████████████████████████████| 81kB 5.7MB/s \n",
            "\u001b[?25hInstalling collected packages: tqdm\n",
            "  Found existing installation: tqdm 4.41.1\n",
            "    Uninstalling tqdm-4.41.1:\n",
            "      Successfully uninstalled tqdm-4.41.1\n",
            "Successfully installed tqdm-4.61.0\n"
          ],
          "name": "stdout"
        }
      ]
    },
    {
      "cell_type": "markdown",
      "metadata": {
        "id": "3qM2gCHcONfe"
      },
      "source": [
        "## Imports"
      ]
    },
    {
      "cell_type": "code",
      "metadata": {
        "id": "-ABvzcWPONjp"
      },
      "source": [
        "# Data handling\n",
        "import pandas as pd\n",
        "import numpy as np\n",
        "\n",
        "# TensorFlow\n",
        "import tensorflow as tf\n",
        "from tensorflow.keras.layers import Input, Layer, Conv2D, MaxPool2D, Flatten, Dense\n",
        "from keras.utils.vis_utils import plot_model\n",
        "\n",
        "# Interactive widgets\n",
        "import ipywidgets as widgets\n",
        "from ipywidgets import interact, interactive, fixed, HBox, VBox, Layout\n",
        "from IPython.display import Javascript\n",
        "\n",
        "# Plotting\n",
        "import matplotlib.pyplot as plt\n",
        "\n",
        "# Statistics\n",
        "from scipy.stats import norm, ks_2samp\n",
        "\n",
        "# Other\n",
        "import itertools\n",
        "from tqdm.contrib.itertools import product as tqdm_product"
      ],
      "execution_count": null,
      "outputs": []
    },
    {
      "cell_type": "markdown",
      "metadata": {
        "id": "Ww8Jf60fOFqP"
      },
      "source": [
        "## GitHub Integration\n",
        "\n",
        "We need to clone our git repository in order to access functions for training data generation and model evaluation."
      ]
    },
    {
      "cell_type": "code",
      "metadata": {
        "id": "n7EJwIpqOFPW"
      },
      "source": [
        "!rm -rf twrds_unbiased_anns\n",
        "!git clone https://github.com/lucasfldmn/twrds_unbiased_anns/ -q"
      ],
      "execution_count": null,
      "outputs": []
    },
    {
      "cell_type": "markdown",
      "metadata": {
        "id": "zg4cQRUeOKFz"
      },
      "source": [
        "## Functions\n",
        "\n",
        "Now we can import all the functions we need."
      ]
    },
    {
      "cell_type": "code",
      "metadata": {
        "id": "LJ_5wlOdOCAQ"
      },
      "source": [
        "# Sample creation\n",
        "from twrds_unbiased_anns.src.data.samples import create_sample_array, get_sample_data, get_sample_params, convert_sample_to_np_array, gen_from_sample, dataset_from_gen\n",
        "# Evaluation\n",
        "from twrds_unbiased_anns.src.data.eval import load_eval_samples, evaluate_performance, evaluate_model, store_results"
      ],
      "execution_count": null,
      "outputs": []
    },
    {
      "cell_type": "markdown",
      "metadata": {
        "id": "9kZX5z2XG2by"
      },
      "source": [
        "## Interaction\n",
        "\n",
        "Some more settings for our interactive output cells."
      ]
    },
    {
      "cell_type": "code",
      "metadata": {
        "id": "HWyMS99_G2hR",
        "colab": {
          "base_uri": "https://localhost:8080/",
          "height": 17
        },
        "outputId": "cb56c9cf-ce8b-44af-8146-d390cafe5e7a"
      },
      "source": [
        "# Allow for larger output cells\n",
        "display(Javascript('''google.colab.output.setIframeHeight(0, true, {maxHeight: 5000})'''))\n",
        "\n",
        "# Set button layout\n",
        "button_layout = Layout(width='180px', height='30px')\n",
        "\n",
        "# Set slider config\n",
        "slider_total_width = '800px'\n",
        "slider_desc_width = '200px'"
      ],
      "execution_count": null,
      "outputs": [
        {
          "output_type": "display_data",
          "data": {
            "application/javascript": [
              "google.colab.output.setIframeHeight(0, true, {maxHeight: 5000})"
            ],
            "text/plain": [
              "<IPython.core.display.Javascript object>"
            ]
          },
          "metadata": {
            "tags": []
          }
        }
      ]
    },
    {
      "cell_type": "markdown",
      "metadata": {
        "id": "R6u-v_A0e5Fr"
      },
      "source": [
        "# Experimental Setup"
      ]
    },
    {
      "cell_type": "markdown",
      "metadata": {
        "id": "zbIwR69K2ssg"
      },
      "source": [
        "## Training Data\n",
        "\n",
        "In this section we will explore the training data used for our tasks.\n",
        "\n",
        "First, we will have a look at the sample array and the resulting sample images that we will use to train our model. Our sample contains multiple noisy images of two different types of shapes (square and circle) in two different colors (white and red). We can see color as a proxy for ethnicity and the shape type as a proxy for sex or gender.\n",
        "\n",
        "The shape size varies per image and corresponds to the target variable that we aim to predict in our model. The exemplary shapes have a size of 150 (left) and 20 (right).\n",
        "\n",
        "![White Square](https://github.com/lucasfldmn/twrds_unbiased_anns/raw/main/figures/shapes/white_square_150_noisy.png) | ![Red Circle](https://github.com/lucasfldmn/twrds_unbiased_anns/raw/main/figures/shapes/red_circle_20_noisy.png)\n",
        "\n",
        "For each combination of the two shape attributes, we set its share, mean $\\mu$, and standard deviation $\\sigma$ in the training data. In this step we can introduce bias by varying the parameters across different attributes. \n",
        "\n",
        "For example, the configuration below is biased against red shapes because their average size is half of the size of white shapes. Additionally, the size of red shapes exhibits less variance than the white shapes. The sample contains 25% each of white squares, white circles, red squares, and red circles."
      ]
    },
    {
      "cell_type": "code",
      "metadata": {
        "id": "fT_g3JAiR_-m"
      },
      "source": [
        "white_square = [25, 100, 20] # share, mean, stddev\n",
        "white_circle = [25, 100, 20]\n",
        "colorful_square = [25, 50, 3]\n",
        "colorful_circle = [25, 50, 3]"
      ],
      "execution_count": null,
      "outputs": []
    },
    {
      "cell_type": "markdown",
      "metadata": {
        "id": "5wXArZxBSBMe"
      },
      "source": [
        "We now generate a sample array that contains the shape attributes and the target variable sampled from a distribution based on the matching parameters. \n",
        "The first column encodes the shape color (1 = white), the second column denotes the shape type (1 = square), and the third column contains the shape size.\n",
        "\n",
        "This leightweight format allows us to construct the training images and targets but requires much less disk space when saving samples for later use."
      ]
    },
    {
      "cell_type": "code",
      "metadata": {
        "colab": {
          "base_uri": "https://localhost:8080/",
          "height": 419
        },
        "id": "PuBOxOGmRg99",
        "outputId": "7621496d-992b-480c-9461-9d96ce614b7d"
      },
      "source": [
        "# Set size of training data\n",
        "dataset_size = 400\n",
        "\n",
        "# Prepare sample\n",
        "train_sample = create_sample_array(dataset_size, white_square, white_circle, colorful_square, colorful_circle)\n",
        "train_df = pd.DataFrame(train_sample)\n",
        "train_df.columns = [\"iswhite\", \"issquare\", \"size\"]\n",
        "train_df"
      ],
      "execution_count": null,
      "outputs": [
        {
          "output_type": "execute_result",
          "data": {
            "text/html": [
              "<div>\n",
              "<style scoped>\n",
              "    .dataframe tbody tr th:only-of-type {\n",
              "        vertical-align: middle;\n",
              "    }\n",
              "\n",
              "    .dataframe tbody tr th {\n",
              "        vertical-align: top;\n",
              "    }\n",
              "\n",
              "    .dataframe thead th {\n",
              "        text-align: right;\n",
              "    }\n",
              "</style>\n",
              "<table border=\"1\" class=\"dataframe\">\n",
              "  <thead>\n",
              "    <tr style=\"text-align: right;\">\n",
              "      <th></th>\n",
              "      <th>iswhite</th>\n",
              "      <th>issquare</th>\n",
              "      <th>size</th>\n",
              "    </tr>\n",
              "  </thead>\n",
              "  <tbody>\n",
              "    <tr>\n",
              "      <th>0</th>\n",
              "      <td>1.0</td>\n",
              "      <td>1.0</td>\n",
              "      <td>118.0</td>\n",
              "    </tr>\n",
              "    <tr>\n",
              "      <th>1</th>\n",
              "      <td>0.0</td>\n",
              "      <td>0.0</td>\n",
              "      <td>49.0</td>\n",
              "    </tr>\n",
              "    <tr>\n",
              "      <th>2</th>\n",
              "      <td>0.0</td>\n",
              "      <td>1.0</td>\n",
              "      <td>50.0</td>\n",
              "    </tr>\n",
              "    <tr>\n",
              "      <th>3</th>\n",
              "      <td>1.0</td>\n",
              "      <td>1.0</td>\n",
              "      <td>72.0</td>\n",
              "    </tr>\n",
              "    <tr>\n",
              "      <th>4</th>\n",
              "      <td>1.0</td>\n",
              "      <td>1.0</td>\n",
              "      <td>74.0</td>\n",
              "    </tr>\n",
              "    <tr>\n",
              "      <th>...</th>\n",
              "      <td>...</td>\n",
              "      <td>...</td>\n",
              "      <td>...</td>\n",
              "    </tr>\n",
              "    <tr>\n",
              "      <th>395</th>\n",
              "      <td>0.0</td>\n",
              "      <td>1.0</td>\n",
              "      <td>52.0</td>\n",
              "    </tr>\n",
              "    <tr>\n",
              "      <th>396</th>\n",
              "      <td>0.0</td>\n",
              "      <td>0.0</td>\n",
              "      <td>51.0</td>\n",
              "    </tr>\n",
              "    <tr>\n",
              "      <th>397</th>\n",
              "      <td>1.0</td>\n",
              "      <td>0.0</td>\n",
              "      <td>116.0</td>\n",
              "    </tr>\n",
              "    <tr>\n",
              "      <th>398</th>\n",
              "      <td>0.0</td>\n",
              "      <td>0.0</td>\n",
              "      <td>54.0</td>\n",
              "    </tr>\n",
              "    <tr>\n",
              "      <th>399</th>\n",
              "      <td>1.0</td>\n",
              "      <td>1.0</td>\n",
              "      <td>113.0</td>\n",
              "    </tr>\n",
              "  </tbody>\n",
              "</table>\n",
              "<p>400 rows × 3 columns</p>\n",
              "</div>"
            ],
            "text/plain": [
              "     iswhite  issquare   size\n",
              "0        1.0       1.0  118.0\n",
              "1        0.0       0.0   49.0\n",
              "2        0.0       1.0   50.0\n",
              "3        1.0       1.0   72.0\n",
              "4        1.0       1.0   74.0\n",
              "..       ...       ...    ...\n",
              "395      0.0       1.0   52.0\n",
              "396      0.0       0.0   51.0\n",
              "397      1.0       0.0  116.0\n",
              "398      0.0       0.0   54.0\n",
              "399      1.0       1.0  113.0\n",
              "\n",
              "[400 rows x 3 columns]"
            ]
          },
          "metadata": {
            "tags": []
          },
          "execution_count": 8
        }
      ]
    },
    {
      "cell_type": "markdown",
      "metadata": {
        "id": "YXp2vzoAXlUw"
      },
      "source": [
        "Let's also plot the distribution of red vs. white shapes to see the impact of our parameter choice."
      ]
    },
    {
      "cell_type": "code",
      "metadata": {
        "colab": {
          "base_uri": "https://localhost:8080/",
          "height": 283
        },
        "id": "wumbP_UAXBgY",
        "outputId": "b331e6d6-783b-4e14-a39d-407fcfd08e14"
      },
      "source": [
        "def plot_training_sample(df):\n",
        "  # Plot parameters\n",
        "  bins = 40\n",
        "  color_white = \"lightgrey\"\n",
        "  color_colorful = \"lightcoral\"\n",
        "  colors = [color_white, color_colorful]\n",
        "\n",
        "  fig = plt.plot(figsize=(20,10))\n",
        "  ax = plt.gca()\n",
        "  actual_white = df[df['iswhite'] == 1.0][\"size\"]\n",
        "  actual_color = df[df['iswhite'] == 0.0][\"size\"]\n",
        "  data = [actual_white, actual_color]\n",
        "  ax.hist(data, color = colors, bins = bins, label = [\"White Shapes\", \"Colorful Shapes\"])\n",
        "  ax.set_ylim(0,80)\n",
        "  ax.set_ylabel('Frequency')\n",
        "  ax.set_xlabel('Shape Size')\n",
        "  for cat_data, color in zip(data, colors):\n",
        "    # Fit a normal distribution to the data\n",
        "    mu, std = norm.fit(cat_data)\n",
        "    # Calculate PDF\n",
        "    xmin, xmax = 20, 150\n",
        "    x = np.linspace(xmin, xmax, 100)\n",
        "    p = norm.pdf(x, mu, std)\n",
        "    # Plot PDF\n",
        "    ax2 = ax.twinx()\n",
        "    ax2.plot(x, p, color = color, linewidth = 2)\n",
        "    # Set limit of secondary axis based on frequency and total sample size \n",
        "    ax2.set_ylim([0, ax.get_ylim()[1] / (df.size/2)])\n",
        "    ax2.set_ylabel('Density')\n",
        "\n",
        "  # Show plot\n",
        "  plt.show()\n",
        "\n",
        "plot_training_sample(train_df)"
      ],
      "execution_count": null,
      "outputs": [
        {
          "output_type": "display_data",
          "data": {
            "image/png": "[encoded data removed]",
            "text/plain": [
              "<Figure size 432x288 with 3 Axes>"
            ]
          },
          "metadata": {
            "tags": [],
            "needs_background": "light"
          }
        }
      ]
    },
    {
      "cell_type": "markdown",
      "metadata": {
        "id": "iychqvo2Zsfs"
      },
      "source": [
        "As we can see, the distribution of shape size differs based on the shape color based on the parameters we chose."
      ]
    },
    {
      "cell_type": "markdown",
      "metadata": {
        "id": "RN_CbRe9aZhe"
      },
      "source": [
        "## Evaluation Data\n",
        "\n",
        "Similar to the training data, we also define an evaluation sample that does not contain any bias. We use the exact same values of shape size per attribute combination with a mean $\\mu$ of 100 and a standard deviation $\\sigma$ of 20. The evaluation sample contains 125 images for each of the four attribute combinations.\n",
        "\n",
        "We save this evaluation sample and employ it for the evaluation of each model to see whether or not it has learned bias from the training data. If a model systematically favors one group over the other during the evaluation this indicates that it learned bias from its training data."
      ]
    },
    {
      "cell_type": "code",
      "metadata": {
        "colab": {
          "base_uri": "https://localhost:8080/",
          "height": 419
        },
        "id": "_bXzD8Y6aZlf",
        "outputId": "f27fd5ad-49a2-42e0-8f27-0deeb65b5c79"
      },
      "source": [
        "eval_sample_filename = \"/content/twrds_unbiased_anns/data/eval/eval_500_mean_100_std_20.data\"\n",
        "\n",
        "eval_sample = load_eval_samples(eval_sample_filename)\n",
        "df_eval_raw = pd.DataFrame(eval_sample)\n",
        "df_eval = pd.DataFrame(df_eval_raw[0][0])\n",
        "df_eval = df_eval.append(pd.DataFrame(df_eval_raw[0][1]))\n",
        "df_eval = df_eval.append(pd.DataFrame(df_eval_raw[0][2]))\n",
        "df_eval = df_eval.append(pd.DataFrame(df_eval_raw[0][3]))\n",
        "df_eval.columns = [\"is_white\", \"is_square\", \"shape_size\"]\n",
        "df_eval"
      ],
      "execution_count": null,
      "outputs": [
        {
          "output_type": "execute_result",
          "data": {
            "text/html": [
              "<div>\n",
              "<style scoped>\n",
              "    .dataframe tbody tr th:only-of-type {\n",
              "        vertical-align: middle;\n",
              "    }\n",
              "\n",
              "    .dataframe tbody tr th {\n",
              "        vertical-align: top;\n",
              "    }\n",
              "\n",
              "    .dataframe thead th {\n",
              "        text-align: right;\n",
              "    }\n",
              "</style>\n",
              "<table border=\"1\" class=\"dataframe\">\n",
              "  <thead>\n",
              "    <tr style=\"text-align: right;\">\n",
              "      <th></th>\n",
              "      <th>is_white</th>\n",
              "      <th>is_square</th>\n",
              "      <th>shape_size</th>\n",
              "    </tr>\n",
              "  </thead>\n",
              "  <tbody>\n",
              "    <tr>\n",
              "      <th>0</th>\n",
              "      <td>1.0</td>\n",
              "      <td>1.0</td>\n",
              "      <td>115.0</td>\n",
              "    </tr>\n",
              "    <tr>\n",
              "      <th>1</th>\n",
              "      <td>1.0</td>\n",
              "      <td>1.0</td>\n",
              "      <td>127.0</td>\n",
              "    </tr>\n",
              "    <tr>\n",
              "      <th>2</th>\n",
              "      <td>1.0</td>\n",
              "      <td>1.0</td>\n",
              "      <td>113.0</td>\n",
              "    </tr>\n",
              "    <tr>\n",
              "      <th>3</th>\n",
              "      <td>1.0</td>\n",
              "      <td>1.0</td>\n",
              "      <td>107.0</td>\n",
              "    </tr>\n",
              "    <tr>\n",
              "      <th>4</th>\n",
              "      <td>1.0</td>\n",
              "      <td>1.0</td>\n",
              "      <td>92.0</td>\n",
              "    </tr>\n",
              "    <tr>\n",
              "      <th>...</th>\n",
              "      <td>...</td>\n",
              "      <td>...</td>\n",
              "      <td>...</td>\n",
              "    </tr>\n",
              "    <tr>\n",
              "      <th>120</th>\n",
              "      <td>0.0</td>\n",
              "      <td>0.0</td>\n",
              "      <td>77.0</td>\n",
              "    </tr>\n",
              "    <tr>\n",
              "      <th>121</th>\n",
              "      <td>0.0</td>\n",
              "      <td>0.0</td>\n",
              "      <td>84.0</td>\n",
              "    </tr>\n",
              "    <tr>\n",
              "      <th>122</th>\n",
              "      <td>0.0</td>\n",
              "      <td>0.0</td>\n",
              "      <td>102.0</td>\n",
              "    </tr>\n",
              "    <tr>\n",
              "      <th>123</th>\n",
              "      <td>0.0</td>\n",
              "      <td>0.0</td>\n",
              "      <td>108.0</td>\n",
              "    </tr>\n",
              "    <tr>\n",
              "      <th>124</th>\n",
              "      <td>0.0</td>\n",
              "      <td>0.0</td>\n",
              "      <td>107.0</td>\n",
              "    </tr>\n",
              "  </tbody>\n",
              "</table>\n",
              "<p>500 rows × 3 columns</p>\n",
              "</div>"
            ],
            "text/plain": [
              "     is_white  is_square  shape_size\n",
              "0         1.0        1.0       115.0\n",
              "1         1.0        1.0       127.0\n",
              "2         1.0        1.0       113.0\n",
              "3         1.0        1.0       107.0\n",
              "4         1.0        1.0        92.0\n",
              "..        ...        ...         ...\n",
              "120       0.0        0.0        77.0\n",
              "121       0.0        0.0        84.0\n",
              "122       0.0        0.0       102.0\n",
              "123       0.0        0.0       108.0\n",
              "124       0.0        0.0       107.0\n",
              "\n",
              "[500 rows x 3 columns]"
            ]
          },
          "metadata": {
            "tags": []
          },
          "execution_count": 10
        }
      ]
    },
    {
      "cell_type": "code",
      "metadata": {
        "colab": {
          "base_uri": "https://localhost:8080/",
          "height": 283
        },
        "id": "KxHjxkxQcba2",
        "outputId": "791675bf-9655-4808-d343-7ee35fba4c41"
      },
      "source": [
        "# Plot parameters\n",
        "labels = [\"White Shapes\", \"Red Shapes\"]\n",
        "bins = 40\n",
        "color_white_square = \"lightgrey\"\n",
        "color_white_circle = \"darkgrey\"\n",
        "color_colorful_square = \"lightcoral\"\n",
        "color_colorful_circle = \"firebrick\"\n",
        "colors = [color_white_square, color_white_circle, color_colorful_square, color_colorful_circle]\n",
        "\n",
        "# Plot results  \n",
        "fig = plt.plot(figsize=(20,10))\n",
        "ax = plt.gca()\n",
        "w = df_eval[df_eval['is_white'] == 1.0]\n",
        "r = df_eval[df_eval['is_white'] == 0.0]\n",
        "actual_ws = w[w['is_square'] == 1.0].shape_size\t\n",
        "actual_wc = w[w['is_square'] == 0.0].shape_size\n",
        "actual_rs = r[r['is_square'] == 1.0].shape_size\t\n",
        "actual_rc = r[r['is_square'] == 0.0].shape_size\n",
        "data = [actual_ws, actual_wc, actual_rs, actual_rc]\n",
        "ax.set_xlim(20,150)\n",
        "ax.set_ylim(0,12)   \n",
        "ax.hist(data, color = colors, bins = bins, label = labels)\n",
        "ax.set_ylabel('Frequency')  \n",
        "ax.set_xlabel('Shape Size')\n",
        "for cat_data, color in zip(data, colors):\n",
        "  # Fit a normal distribution to the data\n",
        "  mu, std = norm.fit(cat_data)\n",
        "  # Calculate PDF\n",
        "  xmin, xmax = 20, 150\n",
        "  x = np.linspace(xmin, xmax, 100)\n",
        "  p = norm.pdf(x, mu, std)\n",
        "  # Plot PDF\n",
        "  ax2 = ax.twinx()\n",
        "  ax2.plot(x, p, color = color, linewidth = 2)\n",
        "  # Calcualte ylim of second axis based on first axis      \n",
        "  ylim_max_1 = ax.get_ylim()[1]\n",
        "  ylim_max_2 = ylim_max_1 / (df_eval.shape_size.size/4)\n",
        "  ax2.set_ylim([0, ylim_max_2])\n",
        "  ax2.set_ylabel('Density')\n",
        "# Fix plot display order\n",
        "ax.set_zorder(ax2.get_zorder()+1)\n",
        "ax.patch.set_visible(False)\n",
        "# Show plot\n",
        "plt.show()  "
      ],
      "execution_count": null,
      "outputs": [
        {
          "output_type": "display_data",
          "data": {
            "image/png": "[encoded data removed]",
            "text/plain": [
              "<Figure size 432x288 with 5 Axes>"
            ]
          },
          "metadata": {
            "tags": [],
            "needs_background": "light"
          }
        }
      ]
    },
    {
      "cell_type": "markdown",
      "metadata": {
        "id": "wPqzuTJ-l0a0"
      },
      "source": [
        "We can see no difference between different colors or shape types in the evaluation sample. Differences in a model's prediction are purely based on learned bias from the training data."
      ]
    },
    {
      "cell_type": "markdown",
      "metadata": {
        "id": "v_NTg67fRsu1"
      },
      "source": [
        "## CNN Architecture\n",
        "\n",
        "We use a simple convolutional neural network (CNN) to predict the shape size. Our CNN contains three convolutional layers with maximum pooling in between followed by three fully connected layers to funnel the flattened feature maps into a single value. "
      ]
    },
    {
      "cell_type": "code",
      "metadata": {
        "colab": {
          "base_uri": "https://localhost:8080/",
          "height": 953
        },
        "id": "34BB3tb3fAQE",
        "outputId": "2f09eb12-a635-4584-ae21-5b2f79a8b58d"
      },
      "source": [
        "def make_cnn_model():\n",
        "  model_input = Input(shape=(360, 360, 3), name=\"input_img\")\n",
        "  x = Conv2D(16, (3, 3), padding = \"same\", activation = \"relu\", name = \"conv_1\")(model_input)\n",
        "  x = MaxPool2D(pool_size = (4, 4), name = \"pool_1\")(x)\n",
        "  x = Conv2D(32, (3, 3), padding = \"same\", activation = \"relu\", name = \"conv_2\")(x)\n",
        "  x = MaxPool2D(pool_size = (4, 4), name = \"pool_2\")(x)\n",
        "  x = Conv2D(32, (3, 3), padding = \"same\", activation = \"relu\", name = \"conv_3\")(x)\n",
        "  x = Flatten(name = \"flat_1\")(x)\n",
        "  x = Dense(100, activation=\"relu\", name = \"dense_1\")(x)\n",
        "  x = Dense(20, activation=\"relu\", name = \"dense_2\")(x)\n",
        "  model_output = Dense(1, name = \"dense_3\")(x)\n",
        "  return tf.keras.Model(model_input, model_output, name = \"Base_CNN\")\n",
        "\n",
        "# Plot the model\n",
        "plot_model(make_cnn_model())"
      ],
      "execution_count": null,
      "outputs": [
        {
          "output_type": "execute_result",
          "data": {
            "image/png": "[encoded data removed]",
            "text/plain": [
              "<IPython.core.display.Image object>"
            ]
          },
          "metadata": {
            "tags": []
          },
          "execution_count": 12
        }
      ]
    },
    {
      "cell_type": "markdown",
      "metadata": {
        "id": "ZAbLCkf-2tDL"
      },
      "source": [
        "# Discrimination in Regression Tasks\n",
        "\n",
        "In this section we will evaluate how different features of the training data affect machine bias. For this, we will first take another look at the training data to develop hypotheses before putting them to a test experimentally."
      ]
    },
    {
      "cell_type": "markdown",
      "metadata": {
        "id": "fG9uMBCRdsmo"
      },
      "source": [
        "## Discrimination Metrics\n",
        "\n",
        "We devise three metrics to identify and measure discrimination in a regression setting using our artificial training and evaluation data:\n",
        "*   **Difference in Prediction Distribution**: Since we know that the distribution of actual shape sizes in our evaluation is the exact same across all groups, differences in the distribution of model predictions for the shape size between groups are an indicator for learned discrimination. We use the two-sample Kolmogorov–Smirnov test (KS test) \\cite{jr_kolmogorov-smirnov_1951} to check the predictions for significant differences in their distribution.\n",
        "*   **Difference in Prediction Values**: As the KS test only indicates whether or not a model might have learned to discriminate against one group, we also need a metric to measure the extend of this discrimination. For this purpose, we measure the difference of the prediction averages between groups in the evaluation sample.\n",
        "*   **Difference in Prediction Error**: In addition to the evaluation of the prediction distributions, we must also take account the model's accuracy. A model can also discriminate against one group if the accuracy for that group is worse compared to other groups. We measure accuracy using the root-mean-square error (RMSE).\n",
        "\n",
        "\n"
      ]
    },
    {
      "cell_type": "markdown",
      "metadata": {
        "id": "7VTBFPQ8nIDt"
      },
      "source": [
        "## Hypotheses on Potential Sources"
      ]
    },
    {
      "cell_type": "markdown",
      "metadata": {
        "id": "xFA-s7s8oXKW"
      },
      "source": [
        "### Training Data Standard Deviation and Mean\n",
        "\n",
        "When looking at the training data distribution for different means and standard deviations we can see how bias might be learned. Play around with the sliders to see how the parameter choices affect the distribution.\n",
        "\n",
        "On the one hand, lower means for one group lead to a larger distance between the distributions of the groups in the training data and might therefore result in larger learned bias. \n",
        "\n",
        "On the other hand, lower standard deviations reduce the overlap between the distributions significantly. We hypothesize that the overlap prevents learning of bias. Lower standard deviations therefore increase machine bias.\n",
        "\n",
        "Based on this, we also expect an interaction effect between mean and standard deviation: The overlap becomes even smaller when both mean and standard deviation are small. This can have an amplifying effect on learning of bias.\n",
        "\n",
        "We also expect this to shift the predictions on the evaluation set. Because the model essentially learns that one shape group is smaller this would also be reflected in the evaluation predictions. "
      ]
    },
    {
      "cell_type": "code",
      "metadata": {
        "colab": {
          "base_uri": "https://localhost:8080/",
          "height": 347,
          "referenced_widgets": [
            "779b21f922aa434bb3e402d44613d63f",
            "f6fbeb7523c24d6289ca62d7d1a5f058",
            "adefe6fdca0f4260aa89420d639194aa",
            "7abce9867473405eb31f1349a880d668",
            "315283c66fe84dafa082b80006564835",
            "37b2847fc0e642b7bc966276a623edd0",
            "fd0b28d2a3304037afdaa1ae48be1db4",
            "168eb7397fa94bd2b96b06f56d94c807",
            "683512a4edab4c17b7cef534e751a18e",
            "a47221ab149143f29175b3ff6e056c4a",
            "bd61da7804ad45129e34bb3d4776dd7b",
            "365de8f1de1740adb84b5f8f76496305"
          ]
        },
        "id": "8O9iAbGRoi8Z",
        "outputId": "4bfa26b1-cea3-49ca-da48-7c075511120e"
      },
      "source": [
        "def plot_sample_based_on_params(mean, stddev):\n",
        "  # Generate training sample\n",
        "  white_square = [25, 100, 20]\n",
        "  white_circle = [25, 100, 20]\n",
        "  colorful_square = [25, mean, stddev]\n",
        "  colorful_circle = [25, mean, stddev]\n",
        "  # Prepare sample\n",
        "  train_sample = create_sample_array(dataset_size, white_square, white_circle, colorful_square, colorful_circle)\n",
        "  train_df = pd.DataFrame(train_sample)\n",
        "  train_df.columns = [\"iswhite\", \"issquare\", \"size\"]\n",
        "  # Plot sample\n",
        "  plot_training_sample(train_df)\n",
        "\n",
        "# Set default parameters \n",
        "mean_def = 100\n",
        "stddev_def = 20\n",
        "\n",
        "# Create slider for mean\n",
        "mean_slider = widgets.FloatSlider(value = mean_def, min = 50., max = 100., step = 1, description = 'Mean:', readout_format = '.1f', continuous_update = False, layout = {'width': slider_total_width}, style = {'description_width': slider_desc_width})\n",
        "\n",
        "# Create slider for standard deviation\n",
        "stddev_slider = widgets.FloatSlider(value = stddev_def, min = 0., max = 40., step = 1, description = 'Standard Deviation:', readout_format = '.1f', continuous_update = False, layout = {'width': slider_total_width}, style = {'description_width': slider_desc_width})\n",
        "\n",
        "# Make interactive widget for function above with the given sliders\n",
        "main_widgets = interactive(plot_sample_based_on_params, mean = mean_slider, stddev = stddev_slider)\n",
        "\n",
        "# Display main widget\n",
        "display(VBox(children=[main_widgets]))"
      ],
      "execution_count": null,
      "outputs": [
        {
          "output_type": "display_data",
          "data": {
            "application/vnd.jupyter.widget-view+json": {
              "model_id": "779b21f922aa434bb3e402d44613d63f",
              "version_minor": 0,
              "version_major": 2
            },
            "text/plain": [
              "VBox(children=(interactive(children=(FloatSlider(value=100.0, continuous_update=False, description='Mean:', la…"
            ]
          },
          "metadata": {
            "tags": []
          }
        }
      ]
    },
    {
      "cell_type": "markdown",
      "metadata": {
        "id": "gnYeyrAXoXT8"
      },
      "source": [
        "### Training Data Share\n",
        "\n",
        "We expect lower shares of one group to impact learned bias differently. The reason for this is the setup of the optimization problem in the model training. Minimization of the L2 loss is always more efficient when the optimization focuses on the group of the training data with the larger share and minimizes losses there. In turn, the loss for the under-represented groups is not minimized to the same extend.\n",
        "\n",
        "This would then result in a larger error for the prediction of the minority group but not in a systematic shift of the prediction average. "
      ]
    },
    {
      "cell_type": "markdown",
      "metadata": {
        "id": "ojUX0jSYojWT"
      },
      "source": [
        "### Distractor\n",
        "\n",
        "The feature used to distinguish the groups in the training data might also impact the bias a model learns from it. Color can be learned more easily than the shape type as it only requires a single neuron to encode it. \n",
        "\n",
        "This could result in a stronger learned bias for groups split by color rather than shape type. However, the inverse is also possible: As learning the shape type requires the interaction of multiple neurons in our CNN, the difference in the shape size between the groups might be propagated more strongly throughout the network, causing a stronger discrimination between the groups. "
      ]
    },
    {
      "cell_type": "markdown",
      "metadata": {
        "id": "3HVav4pqnLVI"
      },
      "source": [
        "## Experiment: Training Data Distribution + Distractor\n",
        "\n",
        "This experiment can be seen as a combination of the two experiments in the thesis. We simultaneously test the effect of our three training data distribution parameters as well as the effect of our distractor."
      ]
    },
    {
      "cell_type": "code",
      "metadata": {
        "colab": {
          "base_uri": "https://localhost:8080/"
        },
        "id": "hb7FN9b4nLbe",
        "outputId": "4187209b-4015-4688-e0a4-ea5b4af07012"
      },
      "source": [
        "# Parameters\n",
        "distractors = [\"color\", \"shape\"]\n",
        "means = [100, 75, 50]\n",
        "stddevs = [20, 3]\n",
        "shares = [50, 5]\n",
        "\n",
        "# Count experimental conditions\n",
        "exp_conditions = 0\n",
        "for _ in itertools.product(distractors, means, stddevs, shares):\n",
        "  exp_conditions += 1\n",
        "print(\"Number of experimental conditions: {}\".format(exp_conditions))\n",
        "\n",
        "# Empty results\n",
        "result_df = None"
      ],
      "execution_count": null,
      "outputs": [
        {
          "output_type": "stream",
          "text": [
            "Number of experimental conditions: 24\n"
          ],
          "name": "stdout"
        }
      ]
    },
    {
      "cell_type": "markdown",
      "metadata": {
        "id": "4wk5uuiapCdv"
      },
      "source": [
        "### Training Loop\n",
        "\n",
        "Now let's put our hypothesis to the test. For each of the 24 experimental conditions we will train one model and evaluate the model predictions on the training data. \n",
        "\n",
        "In the main thesis, we test more detailed parameter and train five models per condition to reduce variance introduced from the random initialization of weights.\n",
        "\n",
        "Note that despite these simplification training still takes some time (~ 120 minutes). If you only wish to see the results, skip ahead to the next part and do not execute the cell below. We will then load pre-recorded results.  "
      ]
    },
    {
      "cell_type": "code",
      "metadata": {
        "colab": {
          "background_save": true,
          "base_uri": "https://localhost:8080/",
          "height": 66,
          "referenced_widgets": [
            "f700d006bf09475ba22d2ec38f3c64b7",
            "61e23bfcfda843c9a401a07013a3444c",
            "855a2dbc0987470888f057a61afe2fa1",
            "119d925761b6411eaf14832177e66bea",
            "dacda62b93e9434cb444154e86ce7458",
            "970019905f8348ef8fe31d36219eebe0",
            "21edbe6f2d50480db1c3008fa4281d15",
            "dac84db409804c99be21033dee476c4b",
            "5d2673c5b13244d8b268e2708ce74f40",
            "d448ef21521243d3aee623d22222d8a9",
            "656ee8319e134f03900c3d7139e7eeee"
          ]
        },
        "id": "NQapnW36pCiM",
        "outputId": "13a575c3-a7db-4e86-e983-5d90cbd6331c"
      },
      "source": [
        "# Set training parameters\n",
        "batch_size = 16\n",
        "n_epochs = 25\n",
        "\n",
        "# Calculate number of steps per epoch\n",
        "n_steps = int(dataset_size/batch_size)\n",
        "\n",
        "# Create empty list of all results\n",
        "results = []\n",
        "\n",
        "# Have a break during training\n",
        "print(\"Starting training. Take this time to grab a coffee or beverage of your choice :-)\")\n",
        "\n",
        "# Iterate over all parameter combinations\n",
        "for (distractor, mean, stddev, share) in tqdm_product(distractors, means, stddevs, shares):\n",
        "\n",
        "  # Clear session every time before a new model is trained\n",
        "  tf.keras.backend.clear_session()\n",
        "\n",
        "  # Get sample parameters (note that the function \"get_sample_params\" takes the difference between means as an input so we subtract the mean of the biased group from the standard mean of the other group)\n",
        "  white_square, white_circle, colorful_square, colorful_circle = get_sample_params(distractor, 100-mean, stddev, share)\n",
        "\n",
        "  # Prepare training sample based on distribution parameters\n",
        "  train_sample = create_sample_array(dataset_size, white_square, white_circle, colorful_square, colorful_circle)\n",
        "\n",
        "  # Create TensorFlow dataset from training data sample (this step creates the actual images based on the sample array and the specified list of colors for different images)\n",
        "  data = dataset_from_gen(train_sample, n_epochs, batch_size, [\"red\"]) \n",
        "\n",
        "  # Create model and compile it with optimizer Adam and MSE loss\n",
        "  model = make_cnn_model()\n",
        "  model.compile(optimizer = tf.keras.optimizers.Adam(), loss = tf.keras.losses.MeanSquaredError()) \n",
        "\n",
        "  # Train the model\n",
        "  model.fit(data, epochs = n_epochs, steps_per_epoch = n_steps, verbose = 0)\n",
        "\n",
        "  # Create dictionary with information on current parameter combination\n",
        "  row = {\n",
        "      \"distractor\": distractor,\n",
        "      \"mean\": mean,\n",
        "      \"stddev\": stddev,\n",
        "      \"share\": share\n",
        "  } \n",
        "\n",
        "  # Run evaluation using our evaluation sample\n",
        "  evaluate_model(model, eval_sample, row, results, colors) \n",
        "\n",
        "# Create dataframe of evaluation results\n",
        "result_df = pd.DataFrame(results)\n",
        "\n",
        "# Notify that training is done\n",
        "print(\"Training done!\")"
      ],
      "execution_count": null,
      "outputs": [
        {
          "output_type": "stream",
          "text": [
            "Starting training. Take this time to grab a coffee or beverage of your choice :-)\n"
          ],
          "name": "stdout"
        },
        {
          "output_type": "display_data",
          "data": {
            "application/vnd.jupyter.widget-view+json": {
              "model_id": "f700d006bf09475ba22d2ec38f3c64b7",
              "version_major": 2,
              "version_minor": 0
            },
            "text/plain": [
              "  0%|          | 0/24 [00:00<?, ?it/s]"
            ]
          },
          "metadata": {
            "tags": []
          }
        }
      ]
    },
    {
      "cell_type": "markdown",
      "metadata": {
        "id": "A7Cow-FmpIhn"
      },
      "source": [
        "### Results\n",
        "\n",
        "Let's take a look at the reults from our evaluation first. For each combination of distractor, mean, standard deviation, and share we find 500 samples along with their color and type as well as both actual and predicted shape size.  "
      ]
    },
    {
      "cell_type": "code",
      "metadata": {
        "id": "UmD9bIFmpIby",
        "colab": {
          "base_uri": "https://localhost:8080/",
          "height": 436
        },
        "outputId": "6832f022-50ed-437d-b4b4-ce48142716f0"
      },
      "source": [
        "if result_df is not None:\n",
        "  # Training was performed, use those results\n",
        "  print(\"Using training results.\")\n",
        "else:\n",
        "  # Load pre-recorded results instead\n",
        "  print(\"Using pre-recorded results.\")\n",
        "  result_df = pd.read_excel(\"/content/twrds_unbiased_anns/runs/regression_demo/results.xlsx\")\n",
        "\n",
        "result_df"
      ],
      "execution_count": null,
      "outputs": [
        {
          "output_type": "stream",
          "text": [
            "Using pre-recorded results.\n"
          ],
          "name": "stdout"
        },
        {
          "output_type": "execute_result",
          "data": {
            "text/html": [
              "<div>\n",
              "<style scoped>\n",
              "    .dataframe tbody tr th:only-of-type {\n",
              "        vertical-align: middle;\n",
              "    }\n",
              "\n",
              "    .dataframe tbody tr th {\n",
              "        vertical-align: top;\n",
              "    }\n",
              "\n",
              "    .dataframe thead th {\n",
              "        text-align: right;\n",
              "    }\n",
              "</style>\n",
              "<table border=\"1\" class=\"dataframe\">\n",
              "  <thead>\n",
              "    <tr style=\"text-align: right;\">\n",
              "      <th></th>\n",
              "      <th>Unnamed: 0</th>\n",
              "      <th>distractor</th>\n",
              "      <th>mean</th>\n",
              "      <th>stddev</th>\n",
              "      <th>share</th>\n",
              "      <th>shape_color</th>\n",
              "      <th>shape_type</th>\n",
              "      <th>actual</th>\n",
              "      <th>prediction</th>\n",
              "    </tr>\n",
              "  </thead>\n",
              "  <tbody>\n",
              "    <tr>\n",
              "      <th>0</th>\n",
              "      <td>0</td>\n",
              "      <td>color</td>\n",
              "      <td>100</td>\n",
              "      <td>20</td>\n",
              "      <td>50</td>\n",
              "      <td>white</td>\n",
              "      <td>square</td>\n",
              "      <td>115</td>\n",
              "      <td>111.594650</td>\n",
              "    </tr>\n",
              "    <tr>\n",
              "      <th>1</th>\n",
              "      <td>1</td>\n",
              "      <td>color</td>\n",
              "      <td>100</td>\n",
              "      <td>20</td>\n",
              "      <td>50</td>\n",
              "      <td>white</td>\n",
              "      <td>square</td>\n",
              "      <td>127</td>\n",
              "      <td>125.776054</td>\n",
              "    </tr>\n",
              "    <tr>\n",
              "      <th>2</th>\n",
              "      <td>2</td>\n",
              "      <td>color</td>\n",
              "      <td>100</td>\n",
              "      <td>20</td>\n",
              "      <td>50</td>\n",
              "      <td>white</td>\n",
              "      <td>square</td>\n",
              "      <td>113</td>\n",
              "      <td>110.183517</td>\n",
              "    </tr>\n",
              "    <tr>\n",
              "      <th>3</th>\n",
              "      <td>3</td>\n",
              "      <td>color</td>\n",
              "      <td>100</td>\n",
              "      <td>20</td>\n",
              "      <td>50</td>\n",
              "      <td>white</td>\n",
              "      <td>square</td>\n",
              "      <td>107</td>\n",
              "      <td>105.221085</td>\n",
              "    </tr>\n",
              "    <tr>\n",
              "      <th>4</th>\n",
              "      <td>4</td>\n",
              "      <td>color</td>\n",
              "      <td>100</td>\n",
              "      <td>20</td>\n",
              "      <td>50</td>\n",
              "      <td>white</td>\n",
              "      <td>square</td>\n",
              "      <td>92</td>\n",
              "      <td>90.899658</td>\n",
              "    </tr>\n",
              "    <tr>\n",
              "      <th>...</th>\n",
              "      <td>...</td>\n",
              "      <td>...</td>\n",
              "      <td>...</td>\n",
              "      <td>...</td>\n",
              "      <td>...</td>\n",
              "      <td>...</td>\n",
              "      <td>...</td>\n",
              "      <td>...</td>\n",
              "      <td>...</td>\n",
              "    </tr>\n",
              "    <tr>\n",
              "      <th>11995</th>\n",
              "      <td>11995</td>\n",
              "      <td>shape</td>\n",
              "      <td>50</td>\n",
              "      <td>3</td>\n",
              "      <td>5</td>\n",
              "      <td>colorful</td>\n",
              "      <td>circle</td>\n",
              "      <td>77</td>\n",
              "      <td>62.317081</td>\n",
              "    </tr>\n",
              "    <tr>\n",
              "      <th>11996</th>\n",
              "      <td>11996</td>\n",
              "      <td>shape</td>\n",
              "      <td>50</td>\n",
              "      <td>3</td>\n",
              "      <td>5</td>\n",
              "      <td>colorful</td>\n",
              "      <td>circle</td>\n",
              "      <td>84</td>\n",
              "      <td>68.227631</td>\n",
              "    </tr>\n",
              "    <tr>\n",
              "      <th>11997</th>\n",
              "      <td>11997</td>\n",
              "      <td>shape</td>\n",
              "      <td>50</td>\n",
              "      <td>3</td>\n",
              "      <td>5</td>\n",
              "      <td>colorful</td>\n",
              "      <td>circle</td>\n",
              "      <td>102</td>\n",
              "      <td>78.986328</td>\n",
              "    </tr>\n",
              "    <tr>\n",
              "      <th>11998</th>\n",
              "      <td>11998</td>\n",
              "      <td>shape</td>\n",
              "      <td>50</td>\n",
              "      <td>3</td>\n",
              "      <td>5</td>\n",
              "      <td>colorful</td>\n",
              "      <td>circle</td>\n",
              "      <td>108</td>\n",
              "      <td>74.424110</td>\n",
              "    </tr>\n",
              "    <tr>\n",
              "      <th>11999</th>\n",
              "      <td>11999</td>\n",
              "      <td>shape</td>\n",
              "      <td>50</td>\n",
              "      <td>3</td>\n",
              "      <td>5</td>\n",
              "      <td>colorful</td>\n",
              "      <td>circle</td>\n",
              "      <td>107</td>\n",
              "      <td>73.407822</td>\n",
              "    </tr>\n",
              "  </tbody>\n",
              "</table>\n",
              "<p>12000 rows × 9 columns</p>\n",
              "</div>"
            ],
            "text/plain": [
              "       Unnamed: 0 distractor  mean  ...  shape_type  actual  prediction\n",
              "0               0      color   100  ...      square     115  111.594650\n",
              "1               1      color   100  ...      square     127  125.776054\n",
              "2               2      color   100  ...      square     113  110.183517\n",
              "3               3      color   100  ...      square     107  105.221085\n",
              "4               4      color   100  ...      square      92   90.899658\n",
              "...           ...        ...   ...  ...         ...     ...         ...\n",
              "11995       11995      shape    50  ...      circle      77   62.317081\n",
              "11996       11996      shape    50  ...      circle      84   68.227631\n",
              "11997       11997      shape    50  ...      circle     102   78.986328\n",
              "11998       11998      shape    50  ...      circle     108   74.424110\n",
              "11999       11999      shape    50  ...      circle     107   73.407822\n",
              "\n",
              "[12000 rows x 9 columns]"
            ]
          },
          "metadata": {
            "tags": []
          },
          "execution_count": 15
        }
      ]
    },
    {
      "cell_type": "markdown",
      "metadata": {
        "id": "yGFbhOHd9Ojp"
      },
      "source": [
        "The two training data groups which we want to compare depend on the distractor. For color, we want to compare red and white shapes irregardless of their type. Accordingly, we compare squares and circle for the shape type distractor.\n",
        "\n",
        "To also analyze the distribution effects on bias, we create an additional column that encodes the group each shape belongs to."
      ]
    },
    {
      "cell_type": "code",
      "metadata": {
        "colab": {
          "base_uri": "https://localhost:8080/",
          "height": 419
        },
        "id": "p6t2jcBx8Ao1",
        "outputId": "387422ea-6b00-49dd-c980-544acb7e0a39"
      },
      "source": [
        "conditions = [\n",
        "  (result_df['distractor'] == 'color') & (result_df['shape_color'] == 'white'),\n",
        "  (result_df['distractor'] == 'color') & (result_df['shape_color'] == 'colorful'),\n",
        "  (result_df['distractor'] == 'shape') & (result_df['shape_type'] == 'square'),\n",
        "  (result_df['distractor'] == 'shape') & (result_df['shape_type'] == 'circle')\n",
        "]\n",
        "\n",
        "# Create a list of the values we want to assign for each condition\n",
        "values = ['over', 'under', 'over', 'under']\n",
        "\n",
        "# create a new column and use np.select to assign values to it using our lists as arguments\n",
        "result_df['group'] = np.select(conditions, values)\n",
        "\n",
        "# # Add column that contains the prediction difference\n",
        "result_df[\"prediction_diff\"] = result_df['prediction'] - result_df['actual']\n",
        "result_df[\"square_prediction_diff\"] = result_df['prediction_diff'] * result_df['prediction_diff']\n",
        "\n",
        "# Show results\n",
        "result_df"
      ],
      "execution_count": null,
      "outputs": [
        {
          "output_type": "execute_result",
          "data": {
            "text/html": [
              "<div>\n",
              "<style scoped>\n",
              "    .dataframe tbody tr th:only-of-type {\n",
              "        vertical-align: middle;\n",
              "    }\n",
              "\n",
              "    .dataframe tbody tr th {\n",
              "        vertical-align: top;\n",
              "    }\n",
              "\n",
              "    .dataframe thead th {\n",
              "        text-align: right;\n",
              "    }\n",
              "</style>\n",
              "<table border=\"1\" class=\"dataframe\">\n",
              "  <thead>\n",
              "    <tr style=\"text-align: right;\">\n",
              "      <th></th>\n",
              "      <th>Unnamed: 0</th>\n",
              "      <th>distractor</th>\n",
              "      <th>mean</th>\n",
              "      <th>stddev</th>\n",
              "      <th>share</th>\n",
              "      <th>shape_color</th>\n",
              "      <th>shape_type</th>\n",
              "      <th>actual</th>\n",
              "      <th>prediction</th>\n",
              "      <th>group</th>\n",
              "      <th>prediction_diff</th>\n",
              "      <th>square_prediction_diff</th>\n",
              "    </tr>\n",
              "  </thead>\n",
              "  <tbody>\n",
              "    <tr>\n",
              "      <th>0</th>\n",
              "      <td>0</td>\n",
              "      <td>color</td>\n",
              "      <td>100</td>\n",
              "      <td>20</td>\n",
              "      <td>50</td>\n",
              "      <td>white</td>\n",
              "      <td>square</td>\n",
              "      <td>115</td>\n",
              "      <td>111.594650</td>\n",
              "      <td>over</td>\n",
              "      <td>-3.405350</td>\n",
              "      <td>11.596407</td>\n",
              "    </tr>\n",
              "    <tr>\n",
              "      <th>1</th>\n",
              "      <td>1</td>\n",
              "      <td>color</td>\n",
              "      <td>100</td>\n",
              "      <td>20</td>\n",
              "      <td>50</td>\n",
              "      <td>white</td>\n",
              "      <td>square</td>\n",
              "      <td>127</td>\n",
              "      <td>125.776054</td>\n",
              "      <td>over</td>\n",
              "      <td>-1.223946</td>\n",
              "      <td>1.498043</td>\n",
              "    </tr>\n",
              "    <tr>\n",
              "      <th>2</th>\n",
              "      <td>2</td>\n",
              "      <td>color</td>\n",
              "      <td>100</td>\n",
              "      <td>20</td>\n",
              "      <td>50</td>\n",
              "      <td>white</td>\n",
              "      <td>square</td>\n",
              "      <td>113</td>\n",
              "      <td>110.183517</td>\n",
              "      <td>over</td>\n",
              "      <td>-2.816483</td>\n",
              "      <td>7.932574</td>\n",
              "    </tr>\n",
              "    <tr>\n",
              "      <th>3</th>\n",
              "      <td>3</td>\n",
              "      <td>color</td>\n",
              "      <td>100</td>\n",
              "      <td>20</td>\n",
              "      <td>50</td>\n",
              "      <td>white</td>\n",
              "      <td>square</td>\n",
              "      <td>107</td>\n",
              "      <td>105.221085</td>\n",
              "      <td>over</td>\n",
              "      <td>-1.778915</td>\n",
              "      <td>3.164540</td>\n",
              "    </tr>\n",
              "    <tr>\n",
              "      <th>4</th>\n",
              "      <td>4</td>\n",
              "      <td>color</td>\n",
              "      <td>100</td>\n",
              "      <td>20</td>\n",
              "      <td>50</td>\n",
              "      <td>white</td>\n",
              "      <td>square</td>\n",
              "      <td>92</td>\n",
              "      <td>90.899658</td>\n",
              "      <td>over</td>\n",
              "      <td>-1.100342</td>\n",
              "      <td>1.210752</td>\n",
              "    </tr>\n",
              "    <tr>\n",
              "      <th>...</th>\n",
              "      <td>...</td>\n",
              "      <td>...</td>\n",
              "      <td>...</td>\n",
              "      <td>...</td>\n",
              "      <td>...</td>\n",
              "      <td>...</td>\n",
              "      <td>...</td>\n",
              "      <td>...</td>\n",
              "      <td>...</td>\n",
              "      <td>...</td>\n",
              "      <td>...</td>\n",
              "      <td>...</td>\n",
              "    </tr>\n",
              "    <tr>\n",
              "      <th>11995</th>\n",
              "      <td>11995</td>\n",
              "      <td>shape</td>\n",
              "      <td>50</td>\n",
              "      <td>3</td>\n",
              "      <td>5</td>\n",
              "      <td>colorful</td>\n",
              "      <td>circle</td>\n",
              "      <td>77</td>\n",
              "      <td>62.317081</td>\n",
              "      <td>under</td>\n",
              "      <td>-14.682919</td>\n",
              "      <td>215.588097</td>\n",
              "    </tr>\n",
              "    <tr>\n",
              "      <th>11996</th>\n",
              "      <td>11996</td>\n",
              "      <td>shape</td>\n",
              "      <td>50</td>\n",
              "      <td>3</td>\n",
              "      <td>5</td>\n",
              "      <td>colorful</td>\n",
              "      <td>circle</td>\n",
              "      <td>84</td>\n",
              "      <td>68.227631</td>\n",
              "      <td>under</td>\n",
              "      <td>-15.772369</td>\n",
              "      <td>248.767636</td>\n",
              "    </tr>\n",
              "    <tr>\n",
              "      <th>11997</th>\n",
              "      <td>11997</td>\n",
              "      <td>shape</td>\n",
              "      <td>50</td>\n",
              "      <td>3</td>\n",
              "      <td>5</td>\n",
              "      <td>colorful</td>\n",
              "      <td>circle</td>\n",
              "      <td>102</td>\n",
              "      <td>78.986328</td>\n",
              "      <td>under</td>\n",
              "      <td>-23.013672</td>\n",
              "      <td>529.629093</td>\n",
              "    </tr>\n",
              "    <tr>\n",
              "      <th>11998</th>\n",
              "      <td>11998</td>\n",
              "      <td>shape</td>\n",
              "      <td>50</td>\n",
              "      <td>3</td>\n",
              "      <td>5</td>\n",
              "      <td>colorful</td>\n",
              "      <td>circle</td>\n",
              "      <td>108</td>\n",
              "      <td>74.424110</td>\n",
              "      <td>under</td>\n",
              "      <td>-33.575890</td>\n",
              "      <td>1127.340362</td>\n",
              "    </tr>\n",
              "    <tr>\n",
              "      <th>11999</th>\n",
              "      <td>11999</td>\n",
              "      <td>shape</td>\n",
              "      <td>50</td>\n",
              "      <td>3</td>\n",
              "      <td>5</td>\n",
              "      <td>colorful</td>\n",
              "      <td>circle</td>\n",
              "      <td>107</td>\n",
              "      <td>73.407822</td>\n",
              "      <td>under</td>\n",
              "      <td>-33.592178</td>\n",
              "      <td>1128.434446</td>\n",
              "    </tr>\n",
              "  </tbody>\n",
              "</table>\n",
              "<p>12000 rows × 12 columns</p>\n",
              "</div>"
            ],
            "text/plain": [
              "       Unnamed: 0 distractor  ...  prediction_diff  square_prediction_diff\n",
              "0               0      color  ...        -3.405350               11.596407\n",
              "1               1      color  ...        -1.223946                1.498043\n",
              "2               2      color  ...        -2.816483                7.932574\n",
              "3               3      color  ...        -1.778915                3.164540\n",
              "4               4      color  ...        -1.100342                1.210752\n",
              "...           ...        ...  ...              ...                     ...\n",
              "11995       11995      shape  ...       -14.682919              215.588097\n",
              "11996       11996      shape  ...       -15.772369              248.767636\n",
              "11997       11997      shape  ...       -23.013672              529.629093\n",
              "11998       11998      shape  ...       -33.575890             1127.340362\n",
              "11999       11999      shape  ...       -33.592178             1128.434446\n",
              "\n",
              "[12000 rows x 12 columns]"
            ]
          },
          "metadata": {
            "tags": []
          },
          "execution_count": 17
        }
      ]
    },
    {
      "cell_type": "markdown",
      "metadata": {
        "id": "_mBFmacKAEA4"
      },
      "source": [
        "Now we compute our discrimination metrics per parameter combination and display them in a table."
      ]
    },
    {
      "cell_type": "code",
      "metadata": {
        "colab": {
          "base_uri": "https://localhost:8080/",
          "height": 793
        },
        "id": "2ptocjjCAELS",
        "outputId": "761d641a-9310-4298-87a7-299999a4c50b"
      },
      "source": [
        "# New list of results per parameter combination\n",
        "grouped_results = []\n",
        "\n",
        "# Group data\n",
        "grouped = result_df.groupby([\"distractor\", \"mean\", \"stddev\", \"share\"])\n",
        "\n",
        "# Go through groups\n",
        "for distractor, mean, stddev, share in grouped.groups.keys():\n",
        "    \n",
        "    # Get data\n",
        "    data = grouped.get_group((distractor, mean, stddev, share))\n",
        "       \n",
        "    # Prediction Average and RMSE for over\n",
        "    grp_over = data[data.group == \"over\"]\n",
        "    avg_pred_over = grp_over.prediction.mean()\n",
        "    avg_rmse_over = np.sqrt(grp_over.square_prediction_diff.mean())\n",
        "\n",
        "    \n",
        "    # Prediction Average and RMSE for under\n",
        "    grp_under = data[data.group == \"under\"]\n",
        "    avg_pred_under = grp_under.prediction.mean()\n",
        "    avg_rmse_under = np.sqrt(grp_under.square_prediction_diff.mean())\n",
        "    \n",
        "    # Perform KS-Test\n",
        "    ks_stat, ks_p = ks_2samp(grp_over.prediction, grp_under.prediction)\n",
        "        \n",
        "    # Store data\n",
        "    grouped_results.append(\n",
        "        {\n",
        "            \"distractor\": distractor,\n",
        "            \"stddev\": stddev,\n",
        "            \"mean\": mean,\n",
        "            \"share\": share,            \n",
        "            \"count\": data.shape[0],\n",
        "            \"avg_pred_over\": avg_pred_over,\n",
        "            \"avg_pred_under\": avg_pred_under,\n",
        "            \"avg_rmse_over\": avg_rmse_over,\n",
        "            \"avg_rmse_under\": avg_rmse_under,    \n",
        "            \"ks_stat\": ks_stat,\n",
        "            \"ks_p\": ks_p            \n",
        "        }\n",
        "    )\n",
        "    \n",
        "# Make dataframe of results and sort it\n",
        "df_grouped_results = pd.DataFrame(grouped_results)\n",
        "df_grouped_results = df_grouped_results.sort_values([\"distractor\", \"stddev\", \"mean\", \"share\"])\n",
        "\n",
        "# Display results\n",
        "df_grouped_results"
      ],
      "execution_count": null,
      "outputs": [
        {
          "output_type": "execute_result",
          "data": {
            "text/html": [
              "<div>\n",
              "<style scoped>\n",
              "    .dataframe tbody tr th:only-of-type {\n",
              "        vertical-align: middle;\n",
              "    }\n",
              "\n",
              "    .dataframe tbody tr th {\n",
              "        vertical-align: top;\n",
              "    }\n",
              "\n",
              "    .dataframe thead th {\n",
              "        text-align: right;\n",
              "    }\n",
              "</style>\n",
              "<table border=\"1\" class=\"dataframe\">\n",
              "  <thead>\n",
              "    <tr style=\"text-align: right;\">\n",
              "      <th></th>\n",
              "      <th>distractor</th>\n",
              "      <th>stddev</th>\n",
              "      <th>mean</th>\n",
              "      <th>share</th>\n",
              "      <th>count</th>\n",
              "      <th>avg_pred_over</th>\n",
              "      <th>avg_pred_under</th>\n",
              "      <th>avg_rmse_over</th>\n",
              "      <th>avg_rmse_under</th>\n",
              "      <th>ks_stat</th>\n",
              "      <th>ks_p</th>\n",
              "    </tr>\n",
              "  </thead>\n",
              "  <tbody>\n",
              "    <tr>\n",
              "      <th>0</th>\n",
              "      <td>color</td>\n",
              "      <td>3</td>\n",
              "      <td>50</td>\n",
              "      <td>5</td>\n",
              "      <td>500</td>\n",
              "      <td>101.246449</td>\n",
              "      <td>77.639693</td>\n",
              "      <td>1.010281</td>\n",
              "      <td>26.172240</td>\n",
              "      <td>0.560</td>\n",
              "      <td>1.924072e-36</td>\n",
              "    </tr>\n",
              "    <tr>\n",
              "      <th>1</th>\n",
              "      <td>color</td>\n",
              "      <td>3</td>\n",
              "      <td>50</td>\n",
              "      <td>50</td>\n",
              "      <td>500</td>\n",
              "      <td>101.116226</td>\n",
              "      <td>79.307252</td>\n",
              "      <td>1.398772</td>\n",
              "      <td>23.833334</td>\n",
              "      <td>0.516</td>\n",
              "      <td>1.039601e-30</td>\n",
              "    </tr>\n",
              "    <tr>\n",
              "      <th>4</th>\n",
              "      <td>color</td>\n",
              "      <td>3</td>\n",
              "      <td>75</td>\n",
              "      <td>5</td>\n",
              "      <td>500</td>\n",
              "      <td>99.314768</td>\n",
              "      <td>83.911942</td>\n",
              "      <td>1.507685</td>\n",
              "      <td>18.394707</td>\n",
              "      <td>0.468</td>\n",
              "      <td>4.167930e-25</td>\n",
              "    </tr>\n",
              "    <tr>\n",
              "      <th>5</th>\n",
              "      <td>color</td>\n",
              "      <td>3</td>\n",
              "      <td>75</td>\n",
              "      <td>50</td>\n",
              "      <td>500</td>\n",
              "      <td>100.298116</td>\n",
              "      <td>85.064623</td>\n",
              "      <td>1.205078</td>\n",
              "      <td>17.928336</td>\n",
              "      <td>0.484</td>\n",
              "      <td>6.685145e-27</td>\n",
              "    </tr>\n",
              "    <tr>\n",
              "      <th>8</th>\n",
              "      <td>color</td>\n",
              "      <td>3</td>\n",
              "      <td>100</td>\n",
              "      <td>5</td>\n",
              "      <td>500</td>\n",
              "      <td>99.947892</td>\n",
              "      <td>85.236969</td>\n",
              "      <td>1.078895</td>\n",
              "      <td>16.953025</td>\n",
              "      <td>0.456</td>\n",
              "      <td>8.305829e-24</td>\n",
              "    </tr>\n",
              "    <tr>\n",
              "      <th>9</th>\n",
              "      <td>color</td>\n",
              "      <td>3</td>\n",
              "      <td>100</td>\n",
              "      <td>50</td>\n",
              "      <td>500</td>\n",
              "      <td>100.410025</td>\n",
              "      <td>88.720864</td>\n",
              "      <td>1.007237</td>\n",
              "      <td>13.943217</td>\n",
              "      <td>0.436</td>\n",
              "      <td>9.952855e-22</td>\n",
              "    </tr>\n",
              "    <tr>\n",
              "      <th>2</th>\n",
              "      <td>color</td>\n",
              "      <td>20</td>\n",
              "      <td>50</td>\n",
              "      <td>5</td>\n",
              "      <td>500</td>\n",
              "      <td>100.407969</td>\n",
              "      <td>83.824821</td>\n",
              "      <td>0.575913</td>\n",
              "      <td>18.121563</td>\n",
              "      <td>0.472</td>\n",
              "      <td>1.506344e-25</td>\n",
              "    </tr>\n",
              "    <tr>\n",
              "      <th>3</th>\n",
              "      <td>color</td>\n",
              "      <td>20</td>\n",
              "      <td>50</td>\n",
              "      <td>50</td>\n",
              "      <td>500</td>\n",
              "      <td>100.679716</td>\n",
              "      <td>82.281070</td>\n",
              "      <td>0.540450</td>\n",
              "      <td>20.392735</td>\n",
              "      <td>0.456</td>\n",
              "      <td>8.305829e-24</td>\n",
              "    </tr>\n",
              "    <tr>\n",
              "      <th>6</th>\n",
              "      <td>color</td>\n",
              "      <td>20</td>\n",
              "      <td>75</td>\n",
              "      <td>5</td>\n",
              "      <td>500</td>\n",
              "      <td>100.022155</td>\n",
              "      <td>82.499805</td>\n",
              "      <td>0.653355</td>\n",
              "      <td>19.087591</td>\n",
              "      <td>0.488</td>\n",
              "      <td>2.318236e-27</td>\n",
              "    </tr>\n",
              "    <tr>\n",
              "      <th>7</th>\n",
              "      <td>color</td>\n",
              "      <td>20</td>\n",
              "      <td>75</td>\n",
              "      <td>50</td>\n",
              "      <td>500</td>\n",
              "      <td>100.137361</td>\n",
              "      <td>84.116141</td>\n",
              "      <td>0.517588</td>\n",
              "      <td>17.498634</td>\n",
              "      <td>0.444</td>\n",
              "      <td>1.511768e-22</td>\n",
              "    </tr>\n",
              "    <tr>\n",
              "      <th>10</th>\n",
              "      <td>color</td>\n",
              "      <td>20</td>\n",
              "      <td>100</td>\n",
              "      <td>5</td>\n",
              "      <td>500</td>\n",
              "      <td>100.703860</td>\n",
              "      <td>86.039061</td>\n",
              "      <td>0.758434</td>\n",
              "      <td>16.263923</td>\n",
              "      <td>0.444</td>\n",
              "      <td>1.511768e-22</td>\n",
              "    </tr>\n",
              "    <tr>\n",
              "      <th>11</th>\n",
              "      <td>color</td>\n",
              "      <td>20</td>\n",
              "      <td>100</td>\n",
              "      <td>50</td>\n",
              "      <td>500</td>\n",
              "      <td>98.471294</td>\n",
              "      <td>85.382007</td>\n",
              "      <td>2.239482</td>\n",
              "      <td>16.587584</td>\n",
              "      <td>0.396</td>\n",
              "      <td>6.861614e-18</td>\n",
              "    </tr>\n",
              "    <tr>\n",
              "      <th>12</th>\n",
              "      <td>shape</td>\n",
              "      <td>3</td>\n",
              "      <td>50</td>\n",
              "      <td>5</td>\n",
              "      <td>500</td>\n",
              "      <td>92.395339</td>\n",
              "      <td>82.170671</td>\n",
              "      <td>12.293079</td>\n",
              "      <td>19.959705</td>\n",
              "      <td>0.252</td>\n",
              "      <td>2.215663e-07</td>\n",
              "    </tr>\n",
              "    <tr>\n",
              "      <th>13</th>\n",
              "      <td>shape</td>\n",
              "      <td>3</td>\n",
              "      <td>50</td>\n",
              "      <td>50</td>\n",
              "      <td>500</td>\n",
              "      <td>91.609984</td>\n",
              "      <td>81.376448</td>\n",
              "      <td>12.811308</td>\n",
              "      <td>20.940652</td>\n",
              "      <td>0.268</td>\n",
              "      <td>2.647654e-08</td>\n",
              "    </tr>\n",
              "    <tr>\n",
              "      <th>16</th>\n",
              "      <td>shape</td>\n",
              "      <td>3</td>\n",
              "      <td>75</td>\n",
              "      <td>5</td>\n",
              "      <td>500</td>\n",
              "      <td>93.425643</td>\n",
              "      <td>84.816461</td>\n",
              "      <td>11.380878</td>\n",
              "      <td>18.318358</td>\n",
              "      <td>0.268</td>\n",
              "      <td>2.647654e-08</td>\n",
              "    </tr>\n",
              "    <tr>\n",
              "      <th>17</th>\n",
              "      <td>shape</td>\n",
              "      <td>3</td>\n",
              "      <td>75</td>\n",
              "      <td>50</td>\n",
              "      <td>500</td>\n",
              "      <td>93.976735</td>\n",
              "      <td>86.451537</td>\n",
              "      <td>11.100967</td>\n",
              "      <td>16.984453</td>\n",
              "      <td>0.224</td>\n",
              "      <td>6.575145e-06</td>\n",
              "    </tr>\n",
              "    <tr>\n",
              "      <th>20</th>\n",
              "      <td>shape</td>\n",
              "      <td>3</td>\n",
              "      <td>100</td>\n",
              "      <td>5</td>\n",
              "      <td>500</td>\n",
              "      <td>91.891854</td>\n",
              "      <td>88.107124</td>\n",
              "      <td>12.898811</td>\n",
              "      <td>15.210467</td>\n",
              "      <td>0.120</td>\n",
              "      <td>5.456740e-02</td>\n",
              "    </tr>\n",
              "    <tr>\n",
              "      <th>21</th>\n",
              "      <td>shape</td>\n",
              "      <td>3</td>\n",
              "      <td>100</td>\n",
              "      <td>50</td>\n",
              "      <td>500</td>\n",
              "      <td>93.475182</td>\n",
              "      <td>90.112612</td>\n",
              "      <td>10.938344</td>\n",
              "      <td>13.398219</td>\n",
              "      <td>0.104</td>\n",
              "      <td>1.339081e-01</td>\n",
              "    </tr>\n",
              "    <tr>\n",
              "      <th>14</th>\n",
              "      <td>shape</td>\n",
              "      <td>20</td>\n",
              "      <td>50</td>\n",
              "      <td>5</td>\n",
              "      <td>500</td>\n",
              "      <td>92.350082</td>\n",
              "      <td>83.369255</td>\n",
              "      <td>12.578691</td>\n",
              "      <td>19.565860</td>\n",
              "      <td>0.268</td>\n",
              "      <td>2.647654e-08</td>\n",
              "    </tr>\n",
              "    <tr>\n",
              "      <th>15</th>\n",
              "      <td>shape</td>\n",
              "      <td>20</td>\n",
              "      <td>50</td>\n",
              "      <td>50</td>\n",
              "      <td>500</td>\n",
              "      <td>89.603848</td>\n",
              "      <td>84.819053</td>\n",
              "      <td>15.625684</td>\n",
              "      <td>20.120416</td>\n",
              "      <td>0.152</td>\n",
              "      <td>6.135703e-03</td>\n",
              "    </tr>\n",
              "    <tr>\n",
              "      <th>18</th>\n",
              "      <td>shape</td>\n",
              "      <td>20</td>\n",
              "      <td>75</td>\n",
              "      <td>5</td>\n",
              "      <td>500</td>\n",
              "      <td>91.483996</td>\n",
              "      <td>88.435673</td>\n",
              "      <td>13.348725</td>\n",
              "      <td>16.548066</td>\n",
              "      <td>0.136</td>\n",
              "      <td>1.952827e-02</td>\n",
              "    </tr>\n",
              "    <tr>\n",
              "      <th>19</th>\n",
              "      <td>shape</td>\n",
              "      <td>20</td>\n",
              "      <td>75</td>\n",
              "      <td>50</td>\n",
              "      <td>500</td>\n",
              "      <td>92.483698</td>\n",
              "      <td>92.427140</td>\n",
              "      <td>12.976313</td>\n",
              "      <td>12.671082</td>\n",
              "      <td>0.040</td>\n",
              "      <td>9.885513e-01</td>\n",
              "    </tr>\n",
              "    <tr>\n",
              "      <th>22</th>\n",
              "      <td>shape</td>\n",
              "      <td>20</td>\n",
              "      <td>100</td>\n",
              "      <td>5</td>\n",
              "      <td>500</td>\n",
              "      <td>93.186671</td>\n",
              "      <td>91.249132</td>\n",
              "      <td>12.041109</td>\n",
              "      <td>12.666369</td>\n",
              "      <td>0.072</td>\n",
              "      <td>5.369449e-01</td>\n",
              "    </tr>\n",
              "    <tr>\n",
              "      <th>23</th>\n",
              "      <td>shape</td>\n",
              "      <td>20</td>\n",
              "      <td>100</td>\n",
              "      <td>50</td>\n",
              "      <td>500</td>\n",
              "      <td>91.617032</td>\n",
              "      <td>92.076738</td>\n",
              "      <td>12.838672</td>\n",
              "      <td>11.816939</td>\n",
              "      <td>0.052</td>\n",
              "      <td>8.888778e-01</td>\n",
              "    </tr>\n",
              "  </tbody>\n",
              "</table>\n",
              "</div>"
            ],
            "text/plain": [
              "   distractor  stddev  mean  ...  avg_rmse_under  ks_stat          ks_p\n",
              "0       color       3    50  ...       26.172240    0.560  1.924072e-36\n",
              "1       color       3    50  ...       23.833334    0.516  1.039601e-30\n",
              "4       color       3    75  ...       18.394707    0.468  4.167930e-25\n",
              "5       color       3    75  ...       17.928336    0.484  6.685145e-27\n",
              "8       color       3   100  ...       16.953025    0.456  8.305829e-24\n",
              "9       color       3   100  ...       13.943217    0.436  9.952855e-22\n",
              "2       color      20    50  ...       18.121563    0.472  1.506344e-25\n",
              "3       color      20    50  ...       20.392735    0.456  8.305829e-24\n",
              "6       color      20    75  ...       19.087591    0.488  2.318236e-27\n",
              "7       color      20    75  ...       17.498634    0.444  1.511768e-22\n",
              "10      color      20   100  ...       16.263923    0.444  1.511768e-22\n",
              "11      color      20   100  ...       16.587584    0.396  6.861614e-18\n",
              "12      shape       3    50  ...       19.959705    0.252  2.215663e-07\n",
              "13      shape       3    50  ...       20.940652    0.268  2.647654e-08\n",
              "16      shape       3    75  ...       18.318358    0.268  2.647654e-08\n",
              "17      shape       3    75  ...       16.984453    0.224  6.575145e-06\n",
              "20      shape       3   100  ...       15.210467    0.120  5.456740e-02\n",
              "21      shape       3   100  ...       13.398219    0.104  1.339081e-01\n",
              "14      shape      20    50  ...       19.565860    0.268  2.647654e-08\n",
              "15      shape      20    50  ...       20.120416    0.152  6.135703e-03\n",
              "18      shape      20    75  ...       16.548066    0.136  1.952827e-02\n",
              "19      shape      20    75  ...       12.671082    0.040  9.885513e-01\n",
              "22      shape      20   100  ...       12.666369    0.072  5.369449e-01\n",
              "23      shape      20   100  ...       11.816939    0.052  8.888778e-01\n",
              "\n",
              "[24 rows x 11 columns]"
            ]
          },
          "metadata": {
            "tags": []
          },
          "execution_count": 22
        }
      ]
    },
    {
      "cell_type": "markdown",
      "metadata": {
        "id": "meM5Gi8q_yvU"
      },
      "source": [
        "In this table we can already observe several things about learning of bias. \n",
        "\n",
        "First of all, we see that color as a distractor leads to a larger bias. the difference in average predictions is larger for the color distractor than the shape type distractor. The same finding also applies to the error. The RMSE is very low for white shapes and very high for red shapes in the color distractor condition. For the shape type distractor, both errors are generally quite larger and they are only slightly elevated for the biased group (circles) compared to the unbiased group (squares).\n",
        "\n",
        "Additionally we see that smaller standard deviations lead to larger bias in the form of a bigger difference in the predictions for each group in the training data.\n",
        "\n",
        "Interestingly, the pre-recorded results also show discrimination against red shapes in the color distractor condition when no difference exists between the distribution of shapes in the training data ($\\mu$ = 100, $\\sigma$ = 20). We did not observe such behavior in our thesis so this might just be a random fluctuation.\n",
        "\n",
        "Use the cell below to view the parameters impact the evaluation prediction distribution. Dotted vertical lines show the mean for each group and solid lines show a noral distribution fitted to the data."
      ]
    },
    {
      "cell_type": "code",
      "metadata": {
        "colab": {
          "base_uri": "https://localhost:8080/",
          "height": 473,
          "referenced_widgets": [
            "5d04f0f8368a45aab6ddfd00233d7888",
            "270fbc7380074c7e9e218244649efb66",
            "c8e64633367b4bb1a5d29f4f4ba1c53e",
            "e04b51a9b4e04c09b19a5262dc7983e5",
            "aa21ae32abf04f6d9eea15311df50745",
            "d3a95ae41fe9498590dc81df4f231896",
            "ad932102adbd4c8f9f972b402b19eb5f",
            "4597185896b24891b3a3f72670c38b39",
            "e2c22d128f454104b4067ecd909e7e4d",
            "cb8525f1dc7448509c5061ca202a8d19",
            "988a94ee730348ce8ce354de2644b468",
            "fa72c23582d64b89a1fbc937ef37ee10",
            "d0cb227c219c4cb39b26475daf1f05ad",
            "3a25e7ad6a1242878caee567feb3af11",
            "b29fc7e42a0747c1b76ba01a1ab3246a",
            "af01cdb0a38b49968ea8c41804692917",
            "77329fee8b3146e3a49249ebd6756308",
            "cc87518474a749a8aa4d744a6022f114"
          ]
        },
        "id": "y4kqjYB4_y8I",
        "outputId": "34dad396-8db5-48ee-ce81-79078527a187"
      },
      "source": [
        "def plot_results_based_on_params(distractor, mean, stddev, share):\n",
        "  # Filter dataframe for selection\n",
        "  results_filtered = result_df.loc[(result_df.distractor == distractor) & (result_df[\"mean\"] == mean) & (result_df[\"stddev\"] == stddev) & (result_df[\"share\"] == share)]\n",
        "  # Plot groups\n",
        "  bins = 40\n",
        "  color_white = \"lightgrey\"\n",
        "  color_colorful = \"lightcoral\"\n",
        "  colors = [color_white, color_colorful]\n",
        "  fig = plt.plot(figsize=(20,10))\n",
        "  ax = plt.gca()\n",
        "  pred_white = results_filtered[results_filtered.group == \"over\"].prediction\n",
        "  pred_color = results_filtered[results_filtered.group == \"under\"].prediction\n",
        "  data = [pred_white, pred_color]\n",
        "  ax.hist(data, color = colors, bins = bins, label = [\"White Shapes\", \"Colorful Shapes\"])\n",
        "  ax.set_ylim(0,30)\n",
        "  ax.set_ylabel('Frequency')\n",
        "  ax.set_xlabel('Shape Size')\n",
        "  for cat_data, color in zip(data, colors):\n",
        "    # Fit a normal distribution to the data\n",
        "    mu, std = norm.fit(cat_data)\n",
        "    # Calculate PDF\n",
        "    xmin, xmax = 20, 150\n",
        "    x = np.linspace(xmin, xmax, 100)\n",
        "    p = norm.pdf(x, mu, std)\n",
        "    # Plot PDF\n",
        "    ax2 = ax.twinx()\n",
        "    ax2.plot(x, p, color = color, linewidth = 2)\n",
        "    # Add mean line\n",
        "    ax.axvline(x = mu, linestyle = \"--\", color = color)\n",
        "    # Set limit of secondary axis based on frequency and total sample size \n",
        "    ax2.set_ylim([0, ax.get_ylim()[1] / (results_filtered.shape[0]/2)])\n",
        "    ax2.set_ylabel('Density')\n",
        "\n",
        "  # Show plot\n",
        "  plt.show()\n",
        "\n",
        "# Set default parameters \n",
        "mean_def = 100\n",
        "stddev_def = 20\n",
        "share_def = 50\n",
        "distractor_def = \"color\"\n",
        "\n",
        "# Distractor selection\n",
        "distractor_select = widgets.Select(options=['color', 'shape'], value=distractor_def,  description='Distractor:', disabled=False)\n",
        "\n",
        "# Create slider for mean\n",
        "mean_slider = widgets.IntSlider(value = mean_def, min = 50, max = 100, step = 25, description = 'Mean:', continuous_update = False, layout = {'width': slider_total_width}, style = {'description_width': slider_desc_width})\n",
        "\n",
        "# Create slider for standard deviation\n",
        "stddev_slider = widgets.IntSlider(value = stddev_def, min = 3, max = 20, step = 17, description = 'Standard Deviation:', continuous_update = False, layout = {'width': slider_total_width}, style = {'description_width': slider_desc_width})\n",
        "\n",
        "# Create slider for share\n",
        "share_slider = widgets.IntSlider(value = share_def, min = 5, max = 50, step = 45, description = 'Share:', continuous_update = False, layout = {'width': slider_total_width}, style = {'description_width': slider_desc_width})\n",
        "\n",
        "# Make interactive widget for function above with the given sliders\n",
        "main_widgets = interactive(plot_results_based_on_params, distractor = distractor_select, mean = mean_slider, stddev = stddev_slider, share = share_slider)\n",
        "\n",
        "# Display main widget\n",
        "display(VBox(children=[main_widgets]))"
      ],
      "execution_count": null,
      "outputs": [
        {
          "output_type": "display_data",
          "data": {
            "application/vnd.jupyter.widget-view+json": {
              "model_id": "5d04f0f8368a45aab6ddfd00233d7888",
              "version_minor": 0,
              "version_major": 2
            },
            "text/plain": [
              "VBox(children=(interactive(children=(Select(description='Distractor:', options=('color', 'shape'), value='colo…"
            ]
          },
          "metadata": {
            "tags": []
          }
        }
      ]
    },
    {
      "cell_type": "markdown",
      "metadata": {
        "id": "MIF8Ytfyo2m5"
      },
      "source": [
        "The prediction distributions confirm our findings from the table. Machine bias is generally larger for the color distractor and increases with lower standard deviations and means for the red shapes.\n",
        "\n",
        "We will finally test "
      ]
    },
    {
      "cell_type": "code",
      "metadata": {
        "colab": {
          "base_uri": "https://localhost:8080/",
          "height": 163
        },
        "id": "YHavLcyr8pwI",
        "outputId": "f6496f16-1bbb-407b-9759-abf56289a117"
      },
      "source": [
        "predictors = [\"distractor\", \"mean\", \"stddev\", \"share\"]\n",
        "\n",
        "# Initialize all combinations for OLS regression to test for interactions\n",
        "ols_predictors = \"\"\n",
        "for predictor in predictors:\n",
        "    ols_predictors = ols_predictors + predictor + \" + \" \n",
        "ols_predictors = ols_predictors + \"stddev * mean * share * distractor\"\n",
        "\n",
        "# Define targets\n",
        "targets = [\"prediction\"] #, \"rmse\"]\n",
        "\n",
        "# Create empty dataframe for OLS results\n",
        "ols_df = pd.DataFrame()\n",
        "\n",
        "for target in targets:\n",
        "    model = ols('{} ~ {}'.format(target, ols_predictors), df_under).fit()\n",
        "    ols_df[\"{}_coef\".format(target)] = model.params\n",
        "    ols_df[\"{}_t\".format(target)] = model.tvalues\n",
        "    ols_df[\"{}_p\".format(target)] = model.pvalues\n",
        "\n",
        "ols_df"
      ],
      "execution_count": null,
      "outputs": [
        {
          "output_type": "error",
          "ename": "NameError",
          "evalue": "ignored",
          "traceback": [
            "\u001b[0;31m---------------------------------------------------------------------------\u001b[0m",
            "\u001b[0;31mNameError\u001b[0m                                 Traceback (most recent call last)",
            "\u001b[0;32m<ipython-input-17-2fee05e58b47>\u001b[0m in \u001b[0;36m<module>\u001b[0;34m()\u001b[0m\n\u001b[0;32m----> 1\u001b[0;31m \u001b[0mresults_filtered\u001b[0m\u001b[0;34m.\u001b[0m\u001b[0msize\u001b[0m\u001b[0;34m\u001b[0m\u001b[0;34m\u001b[0m\u001b[0m\n\u001b[0m",
            "\u001b[0;31mNameError\u001b[0m: name 'results_filtered' is not defined"
          ]
        }
      ]
    },
    {
      "cell_type": "markdown",
      "metadata": {
        "id": "q6wMEHn3OTA_"
      },
      "source": [
        "# Robustness against Training Data Bias\n",
        "\n",
        "Our approach is based on the paper \"[Gradient Reversal Against Discrimination](https://arxiv.org/abs/1807.00392)\" (GRAD) by Edward Raff and Jared Sylvester.\n",
        "\n",
        "GRAD aims at learning a latent representation of the training data that does not contain information on the protected attributes, thereby increasing fairness. To guide the optimization towards such a representation, GRAD forks the network into multiple branches after the feature generation part. One branch is trained to predict the target and each of the other branches predicts one protected attribute. Losses from the attribute branches are then reversed after they have been used to optimize each branch during backpropagation. This serves to steer the optimization of the feature generation away from a representation that allows prediction of these attributes.\n",
        "\n",
        "We adopt the GRAD method to our existing CNN by forking it into three different branches after the flattening of generated features. All branches contain fully connected layers similar to the original model setup in order to funnel the features into a prediction value. We then use one branch to predict the target value and the two attribute branches to predict color and shape type. Because these attributes are both binary, we apply a sigmoid activation function in the last layer.\n",
        "\n",
        "Additionally, we reverse the gradients immediately after they are calculated from the loss. This resulted in better convergence of the target loss as well as a stronger suppression of prediction accuracy for the protected attributes."
      ]
    },
    {
      "cell_type": "markdown",
      "metadata": {
        "id": "83U2shtRN0vP"
      },
      "source": [
        "## Gradient Reversal\n",
        "\n",
        "We define a custom operation that only reverses gradients during backpropagation and integrate this operation within a custom layer (inspired by [Stack Overflow](https://stackoverflow.com/questions/56841166/how-to-implement-gradient-reversal-layer-in-tf-2-0)). This allows us to easily integrate gradient reversal within the keras model API."
      ]
    },
    {
      "cell_type": "code",
      "metadata": {
        "id": "Z5FkeybHN1Hq"
      },
      "source": [
        "# Gradient reversal operation\n",
        "@tf.custom_gradient\n",
        "def grad_reverse(x):\n",
        "  y = tf.identity(x)\n",
        "  def custom_grad(dy):\n",
        "    return -dy\n",
        "  return y, custom_grad\n",
        "\n",
        "# Layer that reverses the gradient\n",
        "class GradReverse(tf.keras.layers.Layer):\n",
        "  def __init__(self):\n",
        "    super().__init__()\n",
        "\n",
        "  def call(self, x):\n",
        "    return grad_reverse(x)"
      ],
      "execution_count": null,
      "outputs": []
    },
    {
      "cell_type": "markdown",
      "metadata": {
        "id": "zqx-oic83AuK"
      },
      "source": [
        "## GRAD Model\n",
        "\n",
        "This piece of code generates and compiles a GRAD model with an arbitrary number of attributes defined by `n_attributes`, a custom weight for the target loss `target_loss_weight` and the $\\lambda$ value `attr_loss_weight`.\n",
        "\n",
        "Let's also visualize this model to see the branching and our custom gradient reversal layer.\n",
        "\n"
      ]
    },
    {
      "cell_type": "code",
      "metadata": {
        "colab": {
          "base_uri": "https://localhost:8080/",
          "height": 1000
        },
        "id": "PuEmimtiNyTs",
        "outputId": "06e5c4c1-c949-4fd2-c71d-45f8265e9440"
      },
      "source": [
        "# Model parameters\n",
        "n_attributes = 2\n",
        "target_loss_weight = 1.\n",
        "attr_loss_weight = 1. \n",
        "    \n",
        "# Input\n",
        "model_input = Input(shape=(360, 360, 3), name=\"input_img\")\n",
        "\n",
        "# Feature extractor\n",
        "x = Conv2D(32, (3, 3), padding = \"same\", activation = \"relu\", name = \"conv_1\")(model_input)\n",
        "x = MaxPool2D(pool_size = (2, 2), name = \"pool_1\")(x)\n",
        "x = Conv2D(64, (3, 3), padding = \"same\", activation = \"relu\", name = \"conv_2\")(x)\n",
        "x = MaxPool2D(pool_size = (2, 2), name = \"pool_2\")(x)\n",
        "x = Conv2D(64, (3, 3), padding = \"same\", activation = \"relu\", name = \"conv_3\")(x)\n",
        "x = Flatten(name = \"flat_1\")(x)\n",
        "\n",
        "# Target branch\n",
        "x_target = Dense(100, activation=\"relu\", name = \"target_dense_1\")(x)\n",
        "x_target = Dense(20, activation=\"relu\", name = \"target_dense_2\")(x_target)\n",
        "target_output = Dense(1, name = \"target_output\")(x_target)\n",
        "model_outputs = [target_output]   \n",
        "\n",
        "# Create losses, weights and metrics\n",
        "losses = {\"target_output\": tf.keras.losses.MeanSquaredError()}\n",
        "target_metric = \"mean_squared_error\"\n",
        "weights = {\"target_output\": target_loss_weight}\n",
        "metrics = {\"target_output\": target_metric}    \n",
        "\n",
        "# Split attribute loss across branches\n",
        "attr_branch_weight = attr_loss_weight / n_attributes    \n",
        "\n",
        "# Attribute branches\n",
        "for i in range(n_attributes):  \n",
        "  # Funnel into sigmoid for binary classification of attributes\n",
        "  x_attr = Dense(100, activation=\"relu\", name = \"attr_{}_dense_1\".format(i))(x)\n",
        "  x_attr = Dense(20, activation=\"relu\", name = \"attr_{}_dense_2\".format(i))(x_attr)\n",
        "  # Gradient reversal layer\n",
        "  x_attr = GradReverse()(x_attr)\n",
        "  # Sigmoid output\n",
        "  output_name = \"attr_{}_output\".format(i)\n",
        "  attr_output = Dense(1, activation = \"sigmoid\", name = output_name)(x_attr) \n",
        "  # Add to outputs\n",
        "  model_outputs.append(attr_output)\n",
        "  # Add to losses, weights and metrics\n",
        "  losses[output_name] = tf.keras.losses.BinaryCrossentropy()\n",
        "  weights[output_name] = attr_branch_weight\n",
        "  metrics[output_name] = \"accuracy\"   \n",
        "    \n",
        "# Make model\n",
        "grad_model = tf.keras.Model(inputs = model_input, outputs = model_outputs, name = \"GRAD_CNN\")\n",
        "\n",
        "# Compile model\n",
        "grad_model.compile(optimizer = tf.keras.optimizers.Adam(), loss = losses, loss_weights = weights, metrics = metrics)\n",
        "\n",
        "# Plot model\n",
        "plot_model(grad_model)"
      ],
      "execution_count": null,
      "outputs": [
        {
          "output_type": "execute_result",
          "data": {
            "image/png": "[encoded data removed]",
            "text/plain": [
              "<IPython.core.display.Image object>"
            ]
          },
          "metadata": {
            "tags": []
          },
          "execution_count": 22
        }
      ]
    },
    {
      "cell_type": "markdown",
      "metadata": {
        "id": "R2WLnsSc3DSn"
      },
      "source": [
        "## Experiment: Model Selection"
      ]
    },
    {
      "cell_type": "markdown",
      "metadata": {
        "id": "E7e4P1q_uSIl"
      },
      "source": [
        "### Training Loop"
      ]
    },
    {
      "cell_type": "code",
      "metadata": {
        "id": "nmroMtc5uRpE"
      },
      "source": [
        ""
      ],
      "execution_count": null,
      "outputs": []
    },
    {
      "cell_type": "markdown",
      "metadata": {
        "id": "_Q7PRIBH3Feh"
      },
      "source": [
        "### Results"
      ]
    },
    {
      "cell_type": "code",
      "metadata": {
        "id": "IUTZfLPlOG8C"
      },
      "source": [
        ""
      ],
      "execution_count": null,
      "outputs": []
    },
    {
      "cell_type": "code",
      "metadata": {
        "id": "iRv4vJWEOLu5"
      },
      "source": [
        ""
      ],
      "execution_count": null,
      "outputs": []
    },
    {
      "cell_type": "code",
      "metadata": {
        "id": "WwO-LDj2OL25"
      },
      "source": [
        ""
      ],
      "execution_count": null,
      "outputs": []
    },
    {
      "cell_type": "code",
      "metadata": {
        "id": "-3YtDktPOL5s"
      },
      "source": [
        ""
      ],
      "execution_count": null,
      "outputs": []
    }
  ]
}